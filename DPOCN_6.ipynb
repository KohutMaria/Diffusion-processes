{
  "metadata": {
    "language_info": {
      "codemirror_mode": {
        "name": "python",
        "version": 3
      },
      "file_extension": ".py",
      "mimetype": "text/x-python",
      "name": "python",
      "nbconvert_exporter": "python",
      "pygments_lexer": "ipython3",
      "version": "3.8"
    },
    "kernelspec": {
      "name": "python",
      "display_name": "Python (Pyodide)",
      "language": "python"
    }
  },
  "nbformat_minor": 4,
  "nbformat": 4,
  "cells": [
    {
      "cell_type": "code",
      "source": "import numpy as np\nimport networkx as nx\nimport random",
      "metadata": {
        "trusted": true
      },
      "execution_count": 2,
      "outputs": []
    },
    {
      "cell_type": "code",
      "source": "def q_voter_model(G, q, p, N):\n    \"\"\"\n    Implementaion of the q-voter model with independence with NN influence group.\n    \n    q_voter_model(G: nx.Graph, q: int, p: float, N: int) -> \n    \n    Parameters\n    ----------\n    G: nx.Graph\n        Network on which method simulate the q-voter model\n    q: int\n        Number of randomly picked neighbors influence a voter to change its opinion\n    p: float\n        Probability, if the spinson will act as independent\n    N: int\n        Number of Monte Carlo simultaions\n    \"\"\"\n    for v in G.nodes:\n        G[v][\"opinion\"] = random.randint(0, 1) * 2 - 1\n        \n    # Pick a spinson at random\n    spinson = random.choice(list(G.nodes))\n    \n    # Decide with probability p, if the spinson will act as independent,\n    q = random.random()\n    if q < p:   # Independence\n        # Change its opinion with probability 1/2\n        if random.random() < 0.5:\n            G[spinson][\"opinion\"] *= -1 \n    else:   # Conformity\n        # Choose q neighbors of site i (a so called q-panel):\n        \n        # If all the q neighbors are in the same state, i.e. q-panel is unanimous, the spinson takes the state of the q neighbors.\n        \n    ",
      "metadata": {},
      "execution_count": null,
      "outputs": []
    },
    {
      "cell_type": "code",
      "source": "rand.randint(0, 1)*2 - 1",
      "metadata": {
        "trusted": true
      },
      "execution_count": 24,
      "outputs": [
        {
          "execution_count": 24,
          "output_type": "execute_result",
          "data": {
            "text/plain": "1"
          },
          "metadata": {}
        }
      ]
    },
    {
      "cell_type": "code",
      "source": "",
      "metadata": {},
      "execution_count": null,
      "outputs": []
    },
    {
      "cell_type": "code",
      "source": "",
      "metadata": {},
      "execution_count": null,
      "outputs": []
    },
    {
      "cell_type": "code",
      "source": "",
      "metadata": {},
      "execution_count": null,
      "outputs": []
    },
    {
      "cell_type": "code",
      "source": "",
      "metadata": {},
      "execution_count": null,
      "outputs": []
    },
    {
      "cell_type": "code",
      "source": "",
      "metadata": {},
      "execution_count": null,
      "outputs": []
    },
    {
      "cell_type": "code",
      "source": "",
      "metadata": {},
      "execution_count": null,
      "outputs": []
    },
    {
      "cell_type": "code",
      "source": "",
      "metadata": {},
      "execution_count": null,
      "outputs": []
    },
    {
      "cell_type": "code",
      "source": "",
      "metadata": {},
      "execution_count": null,
      "outputs": []
    },
    {
      "cell_type": "code",
      "source": "",
      "metadata": {},
      "execution_count": null,
      "outputs": []
    },
    {
      "cell_type": "code",
      "source": "",
      "metadata": {},
      "execution_count": null,
      "outputs": []
    },
    {
      "cell_type": "code",
      "source": "",
      "metadata": {},
      "execution_count": null,
      "outputs": []
    },
    {
      "cell_type": "code",
      "source": "",
      "metadata": {},
      "execution_count": null,
      "outputs": []
    },
    {
      "cell_type": "code",
      "source": "",
      "metadata": {},
      "execution_count": null,
      "outputs": []
    }
  ]
}
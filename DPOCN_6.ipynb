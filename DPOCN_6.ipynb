{
 "cells": [
  {
   "cell_type": "code",
   "execution_count": 1,
   "metadata": {},
   "outputs": [],
   "source": [
    "import numpy as np\n",
    "import networkx as nx\n",
    "import random"
   ]
  },
  {
   "cell_type": "code",
   "execution_count": 63,
   "metadata": {},
   "outputs": [],
   "source": [
    "def q_voter_model(G, q, p, N):\n",
    "    \"\"\"\n",
    "    Implementaion of the q-voter model with independence with NN influence group. Return list with opinios.\n",
    "    \n",
    "    q_voter_model(G: nx.Graph, q: int, p: float, N: int) -> list\n",
    "    \n",
    "    Parameters\n",
    "    ----------\n",
    "    G: nx.Graph\n",
    "        Network on which method simulates the q-voter model\n",
    "    q: int\n",
    "        Number of randomly picked neighbors influence a voter to change its opinion\n",
    "    p: float\n",
    "        Probability, if the spinson will act as independent\n",
    "    N: int\n",
    "        Number of Monte Carlo simultaions\n",
    "    \"\"\"\n",
    "    # At the beggining all people have the same opinions\n",
    "    for v in G.nodes:\n",
    "        G.nodes[v][\"opinion\"] = 1\n",
    "        \n",
    "    for i in range(N):\n",
    "        # Pick a spinson at random\n",
    "        spinson = random.choice(list(G.nodes))\n",
    "\n",
    "        # Decide with probability p, if the spinson will act as independent,\n",
    "        if random.random() < p:   # Independence\n",
    "            # Change its opinion with probability 1/2\n",
    "            if random.random() < 0.5:\n",
    "                G.nodes[spinson][\"opinion\"] *= -1 \n",
    "        else:   # Conformity\n",
    "            # Choose q neighbors of site i (a so called q-panel):\n",
    "            neigh = list(G.neighbors(spinson)) \n",
    "            if len(neigh) >= q:\n",
    "                q_panel = random.sample(neigh, q)\n",
    "            # If all the q neighbors are in the same state, i.e. q-panel is unanimous, the spinson takes the state of the q neighbors.\n",
    "                opinions = nx.get_node_attributes(G, \"opinion\")\n",
    "                opinions = [opinions[person] for person in q_panel]\n",
    "                q_sum = np.sum(opinions)\n",
    "                if q_sum == q or q_sum == -q:\n",
    "                    G.nodes[spinson][\"opinion\"] = opinions[0]\n",
    "    return list(nx.get_node_attributes(q_voter, \"opinion\").values())\n",
    "    "
   ]
  },
  {
   "cell_type": "code",
   "execution_count": 64,
   "metadata": {},
   "outputs": [],
   "source": [
    "def q_voter_model_dif_p(G, q, pp, N):\n",
    "    all_opinions = []\n",
    "    for p in pp:\n",
    "        all_opinions.append(q_voter_model(G, q, p, N))\n",
    "    return all_opinions"
   ]
  },
  {
   "cell_type": "code",
   "execution_count": null,
   "metadata": {},
   "outputs": [],
   "source": [
    "def calculate_magnetization(G, q, pp, N, MC):\n",
    "    magnet = np.zeros(len(G), len(pp))\n",
    "    for i in range(MC):\n",
    "        "
   ]
  },
  {
   "cell_type": "markdown",
   "metadata": {},
   "source": [
    "Multiprocessing. For every p we can run indpendent. Use when do not need computer."
   ]
  },
  {
   "cell_type": "code",
   "execution_count": 65,
   "metadata": {},
   "outputs": [],
   "source": [
    "n = 100\n",
    "# k = 4\n",
    "# prob = 0.1\n",
    "G = nx.complete_graph(n)\n",
    "# G = nx.watts_strogatz_graph(n, k, prob)\n",
    "q = 3\n",
    "pp = np.arange(0, 0.51, 0.02)\n",
    "N = 1000\n",
    "\n",
    "all_opinions = q_voter_model_dif_p(G, q, pp, N)"
   ]
  },
  {
   "cell_type": "code",
   "execution_count": 70,
   "metadata": {},
   "outputs": [
    {
     "data": {
      "text/plain": [
       "100"
      ]
     },
     "execution_count": 70,
     "metadata": {},
     "output_type": "execute_result"
    }
   ],
   "source": [
    "len(G)"
   ]
  },
  {
   "cell_type": "markdown",
   "metadata": {},
   "source": [
    "random choice / sample"
   ]
  },
  {
   "cell_type": "code",
   "execution_count": null,
   "metadata": {},
   "outputs": [],
   "source": []
  },
  {
   "cell_type": "code",
   "execution_count": null,
   "metadata": {},
   "outputs": [],
   "source": []
  },
  {
   "cell_type": "code",
   "execution_count": null,
   "metadata": {},
   "outputs": [],
   "source": []
  },
  {
   "cell_type": "code",
   "execution_count": null,
   "metadata": {},
   "outputs": [],
   "source": []
  },
  {
   "cell_type": "code",
   "execution_count": null,
   "metadata": {},
   "outputs": [],
   "source": []
  },
  {
   "cell_type": "code",
   "execution_count": null,
   "metadata": {},
   "outputs": [],
   "source": []
  },
  {
   "cell_type": "code",
   "execution_count": null,
   "metadata": {},
   "outputs": [],
   "source": []
  }
 ],
 "metadata": {
  "kernelspec": {
   "display_name": "Python 3 (ipykernel)",
   "language": "python",
   "name": "python3"
  },
  "language_info": {
   "codemirror_mode": {
    "name": "ipython",
    "version": 3
   },
   "file_extension": ".py",
   "mimetype": "text/x-python",
   "name": "python",
   "nbconvert_exporter": "python",
   "pygments_lexer": "ipython3",
   "version": "3.9.12"
  }
 },
 "nbformat": 4,
 "nbformat_minor": 4
}

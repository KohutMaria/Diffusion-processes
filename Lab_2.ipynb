{
  "metadata": {
    "language_info": {
      "codemirror_mode": {
        "name": "python",
        "version": 3
      },
      "file_extension": ".py",
      "mimetype": "text/x-python",
      "name": "python",
      "nbconvert_exporter": "python",
      "pygments_lexer": "ipython3",
      "version": "3.8"
    },
    "kernelspec": {
      "name": "python",
      "display_name": "Python (Pyodide)",
      "language": "python"
    }
  },
  "nbformat_minor": 4,
  "nbformat": 4,
  "cells": [
    {
      "cell_type": "code",
      "source": "class Graph(object):\n    \n    # Graph() creates a new, empty undirected graph.\n    def __init__(self):\n        self.graph = dict()\n        \n    # addVertex(vert) adds a vertex to the graph.\n    def addVertex(self, vert):\n        if self.vertIn(vert):\n            print(f'The graph already has a vertex with name: {vert}. The vertex was not added.')\n        else: \n            self.graph[vert] = []\n    \n    # addVerticesFromList(vertList) adds a list of vertices to the graph.\n    def addVerticesFromList(self, vertList):\n        for vert in vertList:\n            self.addVertex(vert)\n    \n    # addEdge(fromVert, toVert, weight) adds a new, weighted, undirected edge to the graph that connects two vertices. \n    # If not in the graph, the vertices should be added automatically.\n    def addEdge(self, fromVert, toVert, weight = 1):\n        if not type(weight) == int:\n            print('The weight must be integer. The edge was not added.')\n            return\n        if weight < 0:\n            print('The weight must be positive. The edge was not added.')\n            return\n        \n        if not self.vertIn(fromVert):\n            self.addVertex(fromVert)\n        if not self.vertIn(toVert):\n            self.addVertex(toVert)        \n\n        for e in self.graph[fromVert]:\n            if e[0] == toVert:\n                print(f'The graph already has an edge that connects these vertices: [{fromVert}, {e[0]}]. The edge was not added.')\n                return\n        \n        self.graph[fromVert].append([toVert, weight])\n        self.graph[toVert].append([fromVert, weight])\n        \n                \n    # addEdgesFromList(edgeList) adds a list of edges to the graph.\n    def addEdgesFromList(self, edgeList):\n        for edge in edgeList:\n            if len(edge) == 2:\n                self.addEdge(edge[0], edge[1])\n            else:\n                self.addEdge(edge[0], edge[1], edge[2])\n    \n    # getVertices() returns the list of all vertices in the graph.\n    def getVertices(self):\n        return list(self.graph.keys())\n    \n    # getEdges() returns the list of all edges in the graph.\n    def getEdges(self):\n        edges = []\n        for v in self.graph:\n            neig = self.getNeighbors(v)\n            for e in neig:\n                if [e[0], v, e[1]] not in edges:\n                    edges.append([v, e[0], e[1]])\n        return edges\n    \n    # getNeighbors(vertKey) returns the list of all neighbors of the vertex labeled vertKey.\n    def getNeighbors(self, vertKey):\n        if self.vertIn(vertKey):\n            return self.graph[vertKey]\n        else:\n            print(f'There is no vertex with the name: {vertKey}')\n    \n    # in returns True for a statement of the form vertex in graph, if the given vertex is in the graph, False otherwise.\n    def vertIn(self, vertKey):\n        if vertKey in self.graph:\n            return True\n        else: \n            return False\n    \n    # saveGraph(graph) writes dot representation of the graph to a text file\n    def saveGraph(self, fileName, graphName):\n        edges = self.getEdges()\n        with open(f'{fileName}.txt', 'w') as f:\n            f.write(f'graph {graphName} {{\\n')\n            for e in edges:\n                f.write(f'\\t{e[0]} -- {e[1]} [weight = {e[2]}]\\n')\n            f.write('}')\n        \n    # getShortestPaths(fromVert) calculates shortest paths in the graph from the given vertex to all other vertices\n    def getShortestPaths(self, fromVert):\n        return 0",
      "metadata": {
        "trusted": true
      },
      "execution_count": 1,
      "outputs": []
    },
    {
      "cell_type": "code",
      "source": "",
      "metadata": {},
      "execution_count": null,
      "outputs": []
    },
    {
      "cell_type": "code",
      "source": "g = Graph()",
      "metadata": {
        "trusted": true
      },
      "execution_count": 2,
      "outputs": []
    },
    {
      "cell_type": "code",
      "source": "g.addVertex('ad')",
      "metadata": {
        "trusted": true
      },
      "execution_count": 3,
      "outputs": []
    },
    {
      "cell_type": "code",
      "source": "g.getVertices()",
      "metadata": {
        "trusted": true
      },
      "execution_count": 4,
      "outputs": [
        {
          "execution_count": 4,
          "output_type": "execute_result",
          "data": {
            "text/plain": "['ad']"
          },
          "metadata": {}
        }
      ]
    },
    {
      "cell_type": "code",
      "source": "g.addVerticesFromList('mar')",
      "metadata": {
        "trusted": true
      },
      "execution_count": 5,
      "outputs": []
    },
    {
      "cell_type": "code",
      "source": "g.getVertices()",
      "metadata": {
        "trusted": true
      },
      "execution_count": 6,
      "outputs": [
        {
          "execution_count": 6,
          "output_type": "execute_result",
          "data": {
            "text/plain": "['ad', 'm', 'a', 'r']"
          },
          "metadata": {}
        }
      ]
    },
    {
      "cell_type": "code",
      "source": "g.addVerticesFromList(['mar', 1, 3, 5])",
      "metadata": {
        "trusted": true
      },
      "execution_count": 7,
      "outputs": []
    },
    {
      "cell_type": "code",
      "source": "g.getVertices()",
      "metadata": {
        "trusted": true
      },
      "execution_count": 8,
      "outputs": [
        {
          "execution_count": 8,
          "output_type": "execute_result",
          "data": {
            "text/plain": "['ad', 'm', 'a', 'r', 'mar', 1, 3, 5]"
          },
          "metadata": {}
        }
      ]
    },
    {
      "cell_type": "code",
      "source": "g.addVerticesFromList('met')",
      "metadata": {
        "trusted": true
      },
      "execution_count": 9,
      "outputs": [
        {
          "name": "stdout",
          "text": "The graph already has a vertex with name: m. The vertex was not added.\n",
          "output_type": "stream"
        }
      ]
    },
    {
      "cell_type": "code",
      "source": "g.getVertices()",
      "metadata": {
        "trusted": true
      },
      "execution_count": 10,
      "outputs": [
        {
          "execution_count": 10,
          "output_type": "execute_result",
          "data": {
            "text/plain": "['ad', 'm', 'a', 'r', 'mar', 1, 3, 5, 'e', 't']"
          },
          "metadata": {}
        }
      ]
    },
    {
      "cell_type": "code",
      "source": "g.getEdges()",
      "metadata": {
        "trusted": true
      },
      "execution_count": 11,
      "outputs": [
        {
          "execution_count": 11,
          "output_type": "execute_result",
          "data": {
            "text/plain": "[]"
          },
          "metadata": {}
        }
      ]
    },
    {
      "cell_type": "code",
      "source": "g.addEdge(1, 4, -4)",
      "metadata": {
        "trusted": true
      },
      "execution_count": 12,
      "outputs": [
        {
          "name": "stdout",
          "text": "The weight must be positive. The edge was not added.\n",
          "output_type": "stream"
        }
      ]
    },
    {
      "cell_type": "code",
      "source": "g.addEdge(1, 4, 1.4)",
      "metadata": {
        "trusted": true
      },
      "execution_count": 13,
      "outputs": [
        {
          "name": "stdout",
          "text": "The weight must be integer. The edge was not added.\n",
          "output_type": "stream"
        }
      ]
    },
    {
      "cell_type": "code",
      "source": "g.addEdge(1, 4, 'g')",
      "metadata": {
        "trusted": true
      },
      "execution_count": 14,
      "outputs": [
        {
          "name": "stdout",
          "text": "The weight must be integer. The edge was not added.\n",
          "output_type": "stream"
        }
      ]
    },
    {
      "cell_type": "code",
      "source": "g.getEdges()",
      "metadata": {
        "trusted": true
      },
      "execution_count": 15,
      "outputs": [
        {
          "execution_count": 15,
          "output_type": "execute_result",
          "data": {
            "text/plain": "[]"
          },
          "metadata": {}
        }
      ]
    },
    {
      "cell_type": "code",
      "source": "g.addEdge(1, 4, 3)",
      "metadata": {
        "trusted": true
      },
      "execution_count": 16,
      "outputs": []
    },
    {
      "cell_type": "code",
      "source": "g.getEdges()",
      "metadata": {
        "trusted": true
      },
      "execution_count": 17,
      "outputs": [
        {
          "execution_count": 17,
          "output_type": "execute_result",
          "data": {
            "text/plain": "[[1, 4, 3]]"
          },
          "metadata": {}
        }
      ]
    },
    {
      "cell_type": "code",
      "source": "g.addEdge(2, 4)",
      "metadata": {
        "trusted": true
      },
      "execution_count": 18,
      "outputs": []
    },
    {
      "cell_type": "code",
      "source": "g.getEdges()",
      "metadata": {
        "trusted": true
      },
      "execution_count": 19,
      "outputs": [
        {
          "execution_count": 19,
          "output_type": "execute_result",
          "data": {
            "text/plain": "[[1, 4, 3], [4, 2, 1]]"
          },
          "metadata": {}
        }
      ]
    },
    {
      "cell_type": "code",
      "source": "g.addEdge(1, 4)",
      "metadata": {
        "trusted": true
      },
      "execution_count": 20,
      "outputs": [
        {
          "name": "stdout",
          "text": "The graph already has an edge that connects these vertices: [1, 4]. The edge was not added.\n",
          "output_type": "stream"
        }
      ]
    },
    {
      "cell_type": "code",
      "source": "g.getEdges()",
      "metadata": {
        "trusted": true
      },
      "execution_count": 21,
      "outputs": [
        {
          "execution_count": 21,
          "output_type": "execute_result",
          "data": {
            "text/plain": "[[1, 4, 3], [4, 2, 1]]"
          },
          "metadata": {}
        }
      ]
    },
    {
      "cell_type": "code",
      "source": "g.addEdgesFromList([[1, 4], [2, 'a', 3], [4, 3, 2], ['m', 'r']])",
      "metadata": {
        "trusted": true
      },
      "execution_count": 22,
      "outputs": [
        {
          "name": "stdout",
          "text": "The graph already has an edge that connects these vertices: [1, 4]. The edge was not added.\n",
          "output_type": "stream"
        }
      ]
    },
    {
      "cell_type": "code",
      "source": "g.getEdges()",
      "metadata": {
        "trusted": true
      },
      "execution_count": 23,
      "outputs": [
        {
          "execution_count": 23,
          "output_type": "execute_result",
          "data": {
            "text/plain": "[['m', 'r', 1], ['a', 2, 3], [1, 4, 3], [3, 4, 2], [4, 2, 1]]"
          },
          "metadata": {}
        }
      ]
    },
    {
      "cell_type": "code",
      "source": "g.vertIn(3)",
      "metadata": {
        "trusted": true
      },
      "execution_count": 24,
      "outputs": [
        {
          "execution_count": 24,
          "output_type": "execute_result",
          "data": {
            "text/plain": "True"
          },
          "metadata": {}
        }
      ]
    },
    {
      "cell_type": "code",
      "source": "g.getNeighbors(12)",
      "metadata": {
        "trusted": true
      },
      "execution_count": 44,
      "outputs": [
        {
          "name": "stdout",
          "text": "There is no vertex wuth name: 12\n",
          "output_type": "stream"
        }
      ]
    },
    {
      "cell_type": "code",
      "source": "g.getNeighbors(2)",
      "metadata": {
        "trusted": true
      },
      "execution_count": 26,
      "outputs": [
        {
          "execution_count": 26,
          "output_type": "execute_result",
          "data": {
            "text/plain": "[[4, 1], ['a', 3]]"
          },
          "metadata": {}
        }
      ]
    },
    {
      "cell_type": "code",
      "source": "g.getNeighbors('ad')",
      "metadata": {
        "trusted": true
      },
      "execution_count": 27,
      "outputs": [
        {
          "execution_count": 27,
          "output_type": "execute_result",
          "data": {
            "text/plain": "[]"
          },
          "metadata": {}
        }
      ]
    },
    {
      "cell_type": "code",
      "source": "g.getNeighbors('df')",
      "metadata": {
        "trusted": true
      },
      "execution_count": 28,
      "outputs": [
        {
          "name": "stdout",
          "text": "There is no vertex wuth name: df\n",
          "output_type": "stream"
        }
      ]
    },
    {
      "cell_type": "code",
      "source": "g.saveGraph('graph1', 'g')",
      "metadata": {
        "trusted": true
      },
      "execution_count": 29,
      "outputs": []
    },
    {
      "cell_type": "code",
      "source": "",
      "metadata": {},
      "execution_count": null,
      "outputs": []
    },
    {
      "cell_type": "code",
      "source": "gr = Graph()",
      "metadata": {
        "trusted": true
      },
      "execution_count": 30,
      "outputs": []
    },
    {
      "cell_type": "code",
      "source": "gr.addVertex('Jen')",
      "metadata": {
        "trusted": true
      },
      "execution_count": 31,
      "outputs": []
    },
    {
      "cell_type": "code",
      "source": "gr.getVertices()",
      "metadata": {
        "trusted": true
      },
      "execution_count": 32,
      "outputs": [
        {
          "execution_count": 32,
          "output_type": "execute_result",
          "data": {
            "text/plain": "['Jen']"
          },
          "metadata": {}
        }
      ]
    },
    {
      "cell_type": "code",
      "source": "gr.addVerticesFromList(['Irene', 'Harry', 'Gail', 'Bob', 'Alice', 'Ernst'])",
      "metadata": {
        "trusted": true
      },
      "execution_count": 33,
      "outputs": []
    },
    {
      "cell_type": "code",
      "source": "gr.getVertices()",
      "metadata": {
        "trusted": true
      },
      "execution_count": 34,
      "outputs": [
        {
          "execution_count": 34,
          "output_type": "execute_result",
          "data": {
            "text/plain": "['Jen', 'Irene', 'Harry', 'Gail', 'Bob', 'Alice', 'Ernst']"
          },
          "metadata": {}
        }
      ]
    },
    {
      "cell_type": "code",
      "source": "gr.addEdge('Jen', 'Irene')",
      "metadata": {
        "trusted": true
      },
      "execution_count": 35,
      "outputs": []
    },
    {
      "cell_type": "code",
      "source": "gr.getEdges()",
      "metadata": {
        "trusted": true
      },
      "execution_count": 36,
      "outputs": [
        {
          "execution_count": 36,
          "output_type": "execute_result",
          "data": {
            "text/plain": "[['Jen', 'Irene', 1]]"
          },
          "metadata": {}
        }
      ]
    },
    {
      "cell_type": "code",
      "source": "gr.addEdgesFromList([('Jen', 'Harry'), ('Jen', 'Gail'), ('Harry', 'Irene'), ('Harry', 'Gail'), ('Irene', 'Gail'), ('Gail', 'Bob'), ('Bob', 'Alice'), \n                    ('Alice', 'Ernst'), ('Alice', 'Frank'), ('Alice', 'Carl'), ('Alice', 'David'), ('Ernst', 'Frank'), ('Frank', 'Carl'), \n                    ('Carl', 'David')])",
      "metadata": {
        "trusted": true
      },
      "execution_count": 37,
      "outputs": []
    },
    {
      "cell_type": "code",
      "source": "gr.getEdges()",
      "metadata": {
        "trusted": true
      },
      "execution_count": 38,
      "outputs": [
        {
          "execution_count": 38,
          "output_type": "execute_result",
          "data": {
            "text/plain": "[['Jen', 'Irene', 1],\n ['Jen', 'Harry', 1],\n ['Jen', 'Gail', 1],\n ['Irene', 'Harry', 1],\n ['Irene', 'Gail', 1],\n ['Harry', 'Gail', 1],\n ['Gail', 'Bob', 1],\n ['Bob', 'Alice', 1],\n ['Alice', 'Ernst', 1],\n ['Alice', 'Frank', 1],\n ['Alice', 'Carl', 1],\n ['Alice', 'David', 1],\n ['Ernst', 'Frank', 1],\n ['Frank', 'Carl', 1],\n ['Carl', 'David', 1]]"
          },
          "metadata": {}
        }
      ]
    },
    {
      "cell_type": "code",
      "source": "gr.getVertices()",
      "metadata": {
        "trusted": true
      },
      "execution_count": 39,
      "outputs": [
        {
          "execution_count": 39,
          "output_type": "execute_result",
          "data": {
            "text/plain": "['Jen',\n 'Irene',\n 'Harry',\n 'Gail',\n 'Bob',\n 'Alice',\n 'Ernst',\n 'Frank',\n 'Carl',\n 'David']"
          },
          "metadata": {}
        }
      ]
    },
    {
      "cell_type": "code",
      "source": "for person in gr.getVertices():\n    print(person, 'has neighbors: ', gr.getNeighbors(person))",
      "metadata": {
        "trusted": true
      },
      "execution_count": 40,
      "outputs": [
        {
          "name": "stdout",
          "text": "Jen has neighbors:  [['Irene', 1], ['Harry', 1], ['Gail', 1]]\nIrene has neighbors:  [['Jen', 1], ['Harry', 1], ['Gail', 1]]\nHarry has neighbors:  [['Jen', 1], ['Irene', 1], ['Gail', 1]]\nGail has neighbors:  [['Jen', 1], ['Harry', 1], ['Irene', 1], ['Bob', 1]]\nBob has neighbors:  [['Gail', 1], ['Alice', 1]]\nAlice has neighbors:  [['Bob', 1], ['Ernst', 1], ['Frank', 1], ['Carl', 1], ['David', 1]]\nErnst has neighbors:  [['Alice', 1], ['Frank', 1]]\nFrank has neighbors:  [['Alice', 1], ['Ernst', 1], ['Carl', 1]]\nCarl has neighbors:  [['Alice', 1], ['Frank', 1], ['David', 1]]\nDavid has neighbors:  [['Alice', 1], ['Carl', 1]]\n",
          "output_type": "stream"
        }
      ]
    },
    {
      "cell_type": "code",
      "source": "gr.vertIn('Jen')",
      "metadata": {
        "trusted": true
      },
      "execution_count": 41,
      "outputs": [
        {
          "execution_count": 41,
          "output_type": "execute_result",
          "data": {
            "text/plain": "True"
          },
          "metadata": {}
        }
      ]
    },
    {
      "cell_type": "code",
      "source": "gr.vertIn('Mariia')",
      "metadata": {
        "trusted": true
      },
      "execution_count": 42,
      "outputs": [
        {
          "execution_count": 42,
          "output_type": "execute_result",
          "data": {
            "text/plain": "False"
          },
          "metadata": {}
        }
      ]
    },
    {
      "cell_type": "code",
      "source": "gr.saveGraph('graph', 'gr')",
      "metadata": {
        "trusted": true
      },
      "execution_count": 43,
      "outputs": []
    },
    {
      "cell_type": "code",
      "source": "",
      "metadata": {},
      "execution_count": null,
      "outputs": []
    }
  ]
}

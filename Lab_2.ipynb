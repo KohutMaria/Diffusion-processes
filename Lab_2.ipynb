{
  "metadata": {
    "language_info": {
      "codemirror_mode": {
        "name": "python",
        "version": 3
      },
      "file_extension": ".py",
      "mimetype": "text/x-python",
      "name": "python",
      "nbconvert_exporter": "python",
      "pygments_lexer": "ipython3",
      "version": "3.8"
    },
    "kernelspec": {
      "name": "python",
      "display_name": "Python (Pyodide)",
      "language": "python"
    }
  },
  "nbformat_minor": 4,
  "nbformat": 4,
  "cells": [
    {
      "cell_type": "code",
      "source": "class Graph(object):\n    \n    # Graph() creates a new, empty undirected graph.\n    def __init__(self):\n        self.vertices = []\n        self.edges = []\n        \n    # addVertex(vert) adds a vertex to the graph.\n    def addVertex(self, vert):\n        self.vertices.append(vert)\n    \n    # addVerticesFromList(vertList) adds a list of vertices to the graph.\n    def addVerticesFromList(self, vertList):\n    \n    # addEdge(fromVert, toVert) adds a new, undirected edge to the graph that connects two vertices.\n    def addEdge(self, fromVert, toVert):\n    \n    # addEdge(fromVert, toVert, weight) adds a new, weighted, undirected edge to the graph that connects two vertices. \n    # If not in the graph, the vertices should be added automatically.\n    def addEdge(self, fromVert, toVert, weight):\n    \n    # addEdgesFromList(edgeList) adds a list of edges to the graph.\n    def addEdgesFromList(self, edgeList):\n    \n    # getVertices() returns the list of all vertices in the graph.\n    def getVertices(self):\n    \n    # getEdges() returns the list of all edges in the graph.\n    def getEdges(self):\n    \n    # getNeighbors(vertKey) returns the list of all neighbors of the vertex labeled vertKey.\n    def getNeighbors(self, vertKey):\n    \n    # in returns True for a statement of the form vertex in graph, if the given vertex is in the graph, False otherwise.\n    def checkVertex(self, vertKey):\n    \n    # saveGraph(graph) writes dot representation of the graph to a text file\n    def saveGraph(self):\n        \n        \n        \n    # getShortestPaths(fromVert) calculates shortest paths in the graph from the given vertex to all other vertices\n    def getShortestPaths(self, fromVert):\n    ",
      "metadata": {
        "trusted": true
      },
      "execution_count": 1,
      "outputs": []
    },
    {
      "cell_type": "code",
      "source": "g = Graph()\n",
      "metadata": {
        "trusted": true
      },
      "execution_count": 2,
      "outputs": []
    },
    {
      "cell_type": "code",
      "source": "",
      "metadata": {},
      "execution_count": null,
      "outputs": []
    }
  ]
}
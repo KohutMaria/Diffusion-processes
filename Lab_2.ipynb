{
  "metadata": {
    "language_info": {
      "codemirror_mode": {
        "name": "python",
        "version": 3
      },
      "file_extension": ".py",
      "mimetype": "text/x-python",
      "name": "python",
      "nbconvert_exporter": "python",
      "pygments_lexer": "ipython3",
      "version": "3.8"
    },
    "kernelspec": {
      "name": "python",
      "display_name": "Python (Pyodide)",
      "language": "python"
    }
  },
  "nbformat_minor": 4,
  "nbformat": 4,
  "cells": [
    {
      "cell_type": "code",
      "source": "import numpy as np",
      "metadata": {
        "trusted": true
      },
      "execution_count": 1,
      "outputs": []
    },
    {
      "cell_type": "code",
      "source": "class Graph(object):\n    \n    # Graph() creates a new, empty undirected graph.\n    def __init__(self):\n        self.graph = dict()\n        \n    # addVertex(vert) adds a vertex to the graph.\n    def addVertex(self, vert):\n        if self.vertIn(vert):\n            print(f'The graph already has a vertex with name: {vert}. The vertex was not added.')\n        else: \n            self.graph[vert] = []\n    \n    # addVerticesFromList(vertList) adds a list of vertices to the graph.\n    def addVerticesFromList(self, vertList):\n        for vert in vertList:\n            self.addVertex(vert)\n    \n    # addEdge(fromVert, toVert, weight) adds a new, weighted, undirected edge to the graph that connects two vertices. \n    # If not in the graph, the vertices should be added automatically.\n    def addEdge(self, fromVert, toVert, weight = 1):\n        if not type(weight) == int:\n            print('The weight must be integer. The edge was not added.')\n            return\n        if weight < 0:\n            print('The weight must be positive. The edge was not added.')\n            return\n        \n        if not self.vertIn(fromVert):\n            self.addVertex(fromVert)\n        if not self.vertIn(toVert):\n            self.addVertex(toVert)        \n\n        for e in self.graph[fromVert]:\n            if e[0] == toVert:\n                print(f'The graph already has an edge that connects these vertices: [{fromVert}, {e[0]}]. The edge was not added.')\n                return\n        \n        self.graph[fromVert].append([toVert, weight])\n        self.graph[toVert].append([fromVert, weight])\n        \n                \n    # addEdgesFromList(edgeList) adds a list of edges to the graph.\n    def addEdgesFromList(self, edgeList):\n        for edge in edgeList:\n            if len(edge) == 2:\n                self.addEdge(edge[0], edge[1])\n            else:\n                self.addEdge(edge[0], edge[1], edge[2])\n    \n    # getVertices() returns the list of all vertices in the graph.\n    def getVertices(self):\n        return list(self.graph.keys())\n    \n    # getEdges() returns the list of all edges in the graph.\n    def getEdges(self):\n        edges = []\n        for v in self.graph:\n            neig = self.getNeighbors(v)\n            for e in neig:\n                if [e[0], v, e[1]] not in edges:\n                    edges.append([v, e[0], e[1]])\n        return edges\n    \n    # getNeighbors(vertKey) returns the list of all neighbors of the vertex labeled vertKey.\n    def getNeighbors(self, vertKey):\n        if self.vertIn(vertKey):\n            return self.graph[vertKey]\n        else:\n            print(f'There is no vertex with the name: {vertKey}')\n    \n    # in returns True for a statement of the form vertex in graph, if the given vertex is in the graph, False otherwise.\n    def vertIn(self, vertKey):\n        if vertKey in self.graph:\n            return True\n        else: \n            return False\n    \n    # saveGraph(graph) writes dot representation of the graph to a text file\n    def saveGraph(self, fileName, graphName):\n        edges = self.getEdges()\n        with open(f'{fileName}.txt', 'w') as f:\n            f.write(f'graph {graphName} {{\\n')\n            for e in edges:\n                f.write(f'\\t{e[0]} -- {e[1]} [weight = {e[2]}]\\n')\n            f.write('}')\n        \n    # getShortestPaths(fromVert) calculates shortest paths in the graph from the given vertex to all other vertices\n    def getShortestPaths(self, fromVert):\n        if not self.vertIn(fromVert):\n            print(f'There is no vertex with the name: {fromVert}')\n            return\n        vertices = dict()\n        for v in self.graph:\n#            vertices[v] = [np.inf, None]\n            vertices[v] = [np.inf, ' ']\n        vertices[fromVert][0] = 0\n        s = []\n        q = dict(sorted(vertices.items(), key = lambda v: v[1][0], reverse = True))\n        while len(q) != 0:\n            min = q.popitem()\n            s.append(min)\n            for v in self.getNeighbors(min[0]):\n                vv = vertices[v[0]]\n                if(vv[0] > min[1][0] + v[1]):\n                    vv[0] = min[1][0] + v[1]\n#                    vv[1] = min\n                    vv[1] = f'{min[0]}, {min[1][1]}'\n            q = dict(sorted(q.items(), key = lambda v: v[1][0], reverse = True))\n        return s",
      "metadata": {
        "trusted": true
      },
      "execution_count": 48,
      "outputs": []
    },
    {
      "cell_type": "code",
      "source": "",
      "metadata": {},
      "execution_count": null,
      "outputs": []
    },
    {
      "cell_type": "code",
      "source": "g = Graph()",
      "metadata": {
        "trusted": true
      },
      "execution_count": 49,
      "outputs": []
    },
    {
      "cell_type": "code",
      "source": "g.addVertex('ad')",
      "metadata": {
        "trusted": true
      },
      "execution_count": 50,
      "outputs": []
    },
    {
      "cell_type": "code",
      "source": "g.getVertices()",
      "metadata": {
        "trusted": true
      },
      "execution_count": 51,
      "outputs": [
        {
          "execution_count": 51,
          "output_type": "execute_result",
          "data": {
            "text/plain": "['ad']"
          },
          "metadata": {}
        }
      ]
    },
    {
      "cell_type": "code",
      "source": "g.addVerticesFromList('mar')",
      "metadata": {
        "trusted": true
      },
      "execution_count": 52,
      "outputs": []
    },
    {
      "cell_type": "code",
      "source": "g.getVertices()",
      "metadata": {
        "trusted": true
      },
      "execution_count": 53,
      "outputs": [
        {
          "execution_count": 53,
          "output_type": "execute_result",
          "data": {
            "text/plain": "['ad', 'm', 'a', 'r']"
          },
          "metadata": {}
        }
      ]
    },
    {
      "cell_type": "code",
      "source": "g.addVerticesFromList(['mar', 1, 3, 5])",
      "metadata": {
        "trusted": true
      },
      "execution_count": 54,
      "outputs": []
    },
    {
      "cell_type": "code",
      "source": "g.getVertices()",
      "metadata": {
        "trusted": true
      },
      "execution_count": 55,
      "outputs": [
        {
          "execution_count": 55,
          "output_type": "execute_result",
          "data": {
            "text/plain": "['ad', 'm', 'a', 'r', 'mar', 1, 3, 5]"
          },
          "metadata": {}
        }
      ]
    },
    {
      "cell_type": "code",
      "source": "g.addVerticesFromList('met')",
      "metadata": {
        "trusted": true
      },
      "execution_count": 56,
      "outputs": [
        {
          "name": "stdout",
          "text": "The graph already has a vertex with name: m. The vertex was not added.\n",
          "output_type": "stream"
        }
      ]
    },
    {
      "cell_type": "code",
      "source": "g.getVertices()",
      "metadata": {
        "trusted": true
      },
      "execution_count": 57,
      "outputs": [
        {
          "execution_count": 57,
          "output_type": "execute_result",
          "data": {
            "text/plain": "['ad', 'm', 'a', 'r', 'mar', 1, 3, 5, 'e', 't']"
          },
          "metadata": {}
        }
      ]
    },
    {
      "cell_type": "code",
      "source": "g.getEdges()",
      "metadata": {
        "trusted": true
      },
      "execution_count": 58,
      "outputs": [
        {
          "execution_count": 58,
          "output_type": "execute_result",
          "data": {
            "text/plain": "[]"
          },
          "metadata": {}
        }
      ]
    },
    {
      "cell_type": "code",
      "source": "g.addEdge(1, 4, -4)",
      "metadata": {
        "trusted": true
      },
      "execution_count": 59,
      "outputs": [
        {
          "name": "stdout",
          "text": "The weight must be positive. The edge was not added.\n",
          "output_type": "stream"
        }
      ]
    },
    {
      "cell_type": "code",
      "source": "g.addEdge(1, 4, 1.4)",
      "metadata": {
        "trusted": true
      },
      "execution_count": 60,
      "outputs": [
        {
          "name": "stdout",
          "text": "The weight must be integer. The edge was not added.\n",
          "output_type": "stream"
        }
      ]
    },
    {
      "cell_type": "code",
      "source": "g.addEdge(1, 4, 'g')",
      "metadata": {
        "trusted": true
      },
      "execution_count": 61,
      "outputs": [
        {
          "name": "stdout",
          "text": "The weight must be integer. The edge was not added.\n",
          "output_type": "stream"
        }
      ]
    },
    {
      "cell_type": "code",
      "source": "g.getEdges()",
      "metadata": {
        "trusted": true
      },
      "execution_count": 62,
      "outputs": [
        {
          "execution_count": 62,
          "output_type": "execute_result",
          "data": {
            "text/plain": "[]"
          },
          "metadata": {}
        }
      ]
    },
    {
      "cell_type": "code",
      "source": "g.addEdge(1, 4, 3)",
      "metadata": {
        "trusted": true
      },
      "execution_count": 63,
      "outputs": []
    },
    {
      "cell_type": "code",
      "source": "g.getEdges()",
      "metadata": {
        "trusted": true
      },
      "execution_count": 64,
      "outputs": [
        {
          "execution_count": 64,
          "output_type": "execute_result",
          "data": {
            "text/plain": "[[1, 4, 3]]"
          },
          "metadata": {}
        }
      ]
    },
    {
      "cell_type": "code",
      "source": "g.addEdge(2, 4)",
      "metadata": {
        "trusted": true
      },
      "execution_count": 65,
      "outputs": []
    },
    {
      "cell_type": "code",
      "source": "g.getEdges()",
      "metadata": {
        "trusted": true
      },
      "execution_count": 66,
      "outputs": [
        {
          "execution_count": 66,
          "output_type": "execute_result",
          "data": {
            "text/plain": "[[1, 4, 3], [4, 2, 1]]"
          },
          "metadata": {}
        }
      ]
    },
    {
      "cell_type": "code",
      "source": "g.addEdge(1, 4)",
      "metadata": {
        "trusted": true
      },
      "execution_count": 67,
      "outputs": [
        {
          "name": "stdout",
          "text": "The graph already has an edge that connects these vertices: [1, 4]. The edge was not added.\n",
          "output_type": "stream"
        }
      ]
    },
    {
      "cell_type": "code",
      "source": "g.getEdges()",
      "metadata": {
        "trusted": true
      },
      "execution_count": 68,
      "outputs": [
        {
          "execution_count": 68,
          "output_type": "execute_result",
          "data": {
            "text/plain": "[[1, 4, 3], [4, 2, 1]]"
          },
          "metadata": {}
        }
      ]
    },
    {
      "cell_type": "code",
      "source": "g.addEdgesFromList([[1, 4], [2, 'a', 3], [4, 3, 2], ['m', 'r']])",
      "metadata": {
        "trusted": true
      },
      "execution_count": 69,
      "outputs": [
        {
          "name": "stdout",
          "text": "The graph already has an edge that connects these vertices: [1, 4]. The edge was not added.\n",
          "output_type": "stream"
        }
      ]
    },
    {
      "cell_type": "code",
      "source": "g.getEdges()",
      "metadata": {
        "trusted": true
      },
      "execution_count": 70,
      "outputs": [
        {
          "execution_count": 70,
          "output_type": "execute_result",
          "data": {
            "text/plain": "[['m', 'r', 1], ['a', 2, 3], [1, 4, 3], [3, 4, 2], [4, 2, 1]]"
          },
          "metadata": {}
        }
      ]
    },
    {
      "cell_type": "code",
      "source": "g.vertIn(3)",
      "metadata": {
        "trusted": true
      },
      "execution_count": 71,
      "outputs": [
        {
          "execution_count": 71,
          "output_type": "execute_result",
          "data": {
            "text/plain": "True"
          },
          "metadata": {}
        }
      ]
    },
    {
      "cell_type": "code",
      "source": "g.getNeighbors(12)",
      "metadata": {
        "trusted": true
      },
      "execution_count": 72,
      "outputs": [
        {
          "name": "stdout",
          "text": "There is no vertex with the name: 12\n",
          "output_type": "stream"
        }
      ]
    },
    {
      "cell_type": "code",
      "source": "g.getNeighbors(2)",
      "metadata": {
        "trusted": true
      },
      "execution_count": 73,
      "outputs": [
        {
          "execution_count": 73,
          "output_type": "execute_result",
          "data": {
            "text/plain": "[[4, 1], ['a', 3]]"
          },
          "metadata": {}
        }
      ]
    },
    {
      "cell_type": "code",
      "source": "g.getNeighbors('ad')",
      "metadata": {
        "trusted": true
      },
      "execution_count": 74,
      "outputs": [
        {
          "execution_count": 74,
          "output_type": "execute_result",
          "data": {
            "text/plain": "[]"
          },
          "metadata": {}
        }
      ]
    },
    {
      "cell_type": "code",
      "source": "g.getNeighbors('df')",
      "metadata": {
        "trusted": true
      },
      "execution_count": 75,
      "outputs": [
        {
          "name": "stdout",
          "text": "There is no vertex with the name: df\n",
          "output_type": "stream"
        }
      ]
    },
    {
      "cell_type": "code",
      "source": "g.saveGraph('graph1', 'g')",
      "metadata": {
        "trusted": true
      },
      "execution_count": 76,
      "outputs": []
    },
    {
      "cell_type": "code",
      "source": "g.getShortestPaths(9)",
      "metadata": {
        "trusted": true
      },
      "execution_count": 31,
      "outputs": [
        {
          "name": "stdout",
          "text": "There is no vertex with the name: 9\n",
          "output_type": "stream"
        }
      ]
    },
    {
      "cell_type": "code",
      "source": "g.getShortestPaths(4)",
      "metadata": {
        "trusted": true
      },
      "execution_count": 32,
      "outputs": [
        {
          "execution_count": 32,
          "output_type": "execute_result",
          "data": {
            "text/plain": "[(4, [0, None]),\n (2, [1, (4, [0, None])]),\n (3, [2, (4, [0, None])]),\n (1, [3, (4, [0, None])]),\n ('a', [4, (2, [1, (4, [0, None])])]),\n ('t', [inf, None]),\n ('e', [inf, None]),\n (5, [inf, None]),\n ('mar', [inf, None]),\n ('r', [inf, None]),\n ('m', [inf, None]),\n ('ad', [inf, None])]"
          },
          "metadata": {}
        }
      ]
    },
    {
      "cell_type": "code",
      "source": "g.getShortestPaths(9)",
      "metadata": {
        "trusted": true
      },
      "execution_count": 77,
      "outputs": [
        {
          "name": "stdout",
          "text": "There is no vertex with the name: 9\n",
          "output_type": "stream"
        }
      ]
    },
    {
      "cell_type": "code",
      "source": "g.getShortestPaths(4)",
      "metadata": {
        "trusted": true
      },
      "execution_count": 78,
      "outputs": [
        {
          "execution_count": 78,
          "output_type": "execute_result",
          "data": {
            "text/plain": "[(4, [0, ' ']),\n (2, [1, '4,  ']),\n (3, [2, '4,  ']),\n (1, [3, '4,  ']),\n ('a', [4, '2, 4,  ']),\n ('t', [inf, ' ']),\n ('e', [inf, ' ']),\n (5, [inf, ' ']),\n ('mar', [inf, ' ']),\n ('r', [inf, ' ']),\n ('m', [inf, ' ']),\n ('ad', [inf, ' '])]"
          },
          "metadata": {}
        }
      ]
    },
    {
      "cell_type": "code",
      "source": "",
      "metadata": {},
      "execution_count": null,
      "outputs": []
    },
    {
      "cell_type": "code",
      "source": "gr = Graph()",
      "metadata": {
        "tags": [],
        "trusted": true
      },
      "execution_count": 79,
      "outputs": []
    },
    {
      "cell_type": "code",
      "source": "gr.addVertex('Jen')",
      "metadata": {
        "trusted": true
      },
      "execution_count": 80,
      "outputs": []
    },
    {
      "cell_type": "code",
      "source": "gr.getVertices()",
      "metadata": {
        "trusted": true
      },
      "execution_count": 81,
      "outputs": [
        {
          "execution_count": 81,
          "output_type": "execute_result",
          "data": {
            "text/plain": "['Jen']"
          },
          "metadata": {}
        }
      ]
    },
    {
      "cell_type": "code",
      "source": "gr.addVerticesFromList(['Irene', 'Harry', 'Gail', 'Bob', 'Alice', 'Ernst'])",
      "metadata": {
        "trusted": true
      },
      "execution_count": 82,
      "outputs": []
    },
    {
      "cell_type": "code",
      "source": "gr.getVertices()",
      "metadata": {
        "trusted": true
      },
      "execution_count": 83,
      "outputs": [
        {
          "execution_count": 83,
          "output_type": "execute_result",
          "data": {
            "text/plain": "['Jen', 'Irene', 'Harry', 'Gail', 'Bob', 'Alice', 'Ernst']"
          },
          "metadata": {}
        }
      ]
    },
    {
      "cell_type": "code",
      "source": "gr.addEdge('Jen', 'Irene')",
      "metadata": {
        "trusted": true
      },
      "execution_count": 84,
      "outputs": []
    },
    {
      "cell_type": "code",
      "source": "gr.getEdges()",
      "metadata": {
        "trusted": true
      },
      "execution_count": 85,
      "outputs": [
        {
          "execution_count": 85,
          "output_type": "execute_result",
          "data": {
            "text/plain": "[['Jen', 'Irene', 1]]"
          },
          "metadata": {}
        }
      ]
    },
    {
      "cell_type": "code",
      "source": "gr.addEdgesFromList([('Jen', 'Harry'), ('Jen', 'Gail'), ('Harry', 'Irene'), ('Harry', 'Gail'), ('Irene', 'Gail'), ('Gail', 'Bob'), ('Bob', 'Alice'), \n                    ('Alice', 'Ernst'), ('Alice', 'Frank'), ('Alice', 'Carl'), ('Alice', 'David'), ('Ernst', 'Frank'), ('Frank', 'Carl'), \n                    ('Carl', 'David')])",
      "metadata": {
        "trusted": true
      },
      "execution_count": 86,
      "outputs": []
    },
    {
      "cell_type": "code",
      "source": "gr.getEdges()",
      "metadata": {
        "trusted": true
      },
      "execution_count": 87,
      "outputs": [
        {
          "execution_count": 87,
          "output_type": "execute_result",
          "data": {
            "text/plain": "[['Jen', 'Irene', 1],\n ['Jen', 'Harry', 1],\n ['Jen', 'Gail', 1],\n ['Irene', 'Harry', 1],\n ['Irene', 'Gail', 1],\n ['Harry', 'Gail', 1],\n ['Gail', 'Bob', 1],\n ['Bob', 'Alice', 1],\n ['Alice', 'Ernst', 1],\n ['Alice', 'Frank', 1],\n ['Alice', 'Carl', 1],\n ['Alice', 'David', 1],\n ['Ernst', 'Frank', 1],\n ['Frank', 'Carl', 1],\n ['Carl', 'David', 1]]"
          },
          "metadata": {}
        }
      ]
    },
    {
      "cell_type": "code",
      "source": "gr.getVertices()",
      "metadata": {
        "trusted": true
      },
      "execution_count": 88,
      "outputs": [
        {
          "execution_count": 88,
          "output_type": "execute_result",
          "data": {
            "text/plain": "['Jen',\n 'Irene',\n 'Harry',\n 'Gail',\n 'Bob',\n 'Alice',\n 'Ernst',\n 'Frank',\n 'Carl',\n 'David']"
          },
          "metadata": {}
        }
      ]
    },
    {
      "cell_type": "code",
      "source": "for person in gr.getVertices():\n    print(person, 'has neighbors: ', gr.getNeighbors(person))",
      "metadata": {
        "trusted": true
      },
      "execution_count": 89,
      "outputs": [
        {
          "name": "stdout",
          "text": "Jen has neighbors:  [['Irene', 1], ['Harry', 1], ['Gail', 1]]\nIrene has neighbors:  [['Jen', 1], ['Harry', 1], ['Gail', 1]]\nHarry has neighbors:  [['Jen', 1], ['Irene', 1], ['Gail', 1]]\nGail has neighbors:  [['Jen', 1], ['Harry', 1], ['Irene', 1], ['Bob', 1]]\nBob has neighbors:  [['Gail', 1], ['Alice', 1]]\nAlice has neighbors:  [['Bob', 1], ['Ernst', 1], ['Frank', 1], ['Carl', 1], ['David', 1]]\nErnst has neighbors:  [['Alice', 1], ['Frank', 1]]\nFrank has neighbors:  [['Alice', 1], ['Ernst', 1], ['Carl', 1]]\nCarl has neighbors:  [['Alice', 1], ['Frank', 1], ['David', 1]]\nDavid has neighbors:  [['Alice', 1], ['Carl', 1]]\n",
          "output_type": "stream"
        }
      ]
    },
    {
      "cell_type": "code",
      "source": "gr.vertIn('Jen')",
      "metadata": {
        "trusted": true
      },
      "execution_count": 90,
      "outputs": [
        {
          "execution_count": 90,
          "output_type": "execute_result",
          "data": {
            "text/plain": "True"
          },
          "metadata": {}
        }
      ]
    },
    {
      "cell_type": "code",
      "source": "gr.vertIn('Mariia')",
      "metadata": {
        "trusted": true
      },
      "execution_count": 91,
      "outputs": [
        {
          "execution_count": 91,
          "output_type": "execute_result",
          "data": {
            "text/plain": "False"
          },
          "metadata": {}
        }
      ]
    },
    {
      "cell_type": "code",
      "source": "gr.saveGraph('graph', 'gr')",
      "metadata": {
        "trusted": true
      },
      "execution_count": 92,
      "outputs": []
    },
    {
      "cell_type": "code",
      "source": "for person in gr.getVertices():\n    print(f\"{person}'s shortest paths:\")\n    for path in gr.getShortestPaths(person):\n        print(f\"{path}\")\n    print('\\n')",
      "metadata": {
        "trusted": true
      },
      "execution_count": 47,
      "outputs": [
        {
          "name": "stdout",
          "text": "Jen's shortest paths:\n('Jen', [0, None])\n('Gail', [1, ('Jen', [0, None])])\n('Harry', [1, ('Jen', [0, None])])\n('Irene', [1, ('Jen', [0, None])])\n('Bob', [2, ('Gail', [1, ('Jen', [0, None])])])\n('Alice', [3, ('Bob', [2, ('Gail', [1, ('Jen', [0, None])])])])\n('David', [4, ('Alice', [3, ('Bob', [2, ('Gail', [1, ('Jen', [0, None])])])])])\n('Carl', [4, ('Alice', [3, ('Bob', [2, ('Gail', [1, ('Jen', [0, None])])])])])\n('Frank', [4, ('Alice', [3, ('Bob', [2, ('Gail', [1, ('Jen', [0, None])])])])])\n('Ernst', [4, ('Alice', [3, ('Bob', [2, ('Gail', [1, ('Jen', [0, None])])])])])\n\n\nIrene's shortest paths:\n('Irene', [0, None])\n('Gail', [1, ('Irene', [0, None])])\n('Harry', [1, ('Irene', [0, None])])\n('Jen', [1, ('Irene', [0, None])])\n('Bob', [2, ('Gail', [1, ('Irene', [0, None])])])\n('Alice', [3, ('Bob', [2, ('Gail', [1, ('Irene', [0, None])])])])\n('David', [4, ('Alice', [3, ('Bob', [2, ('Gail', [1, ('Irene', [0, None])])])])])\n('Carl', [4, ('Alice', [3, ('Bob', [2, ('Gail', [1, ('Irene', [0, None])])])])])\n('Frank', [4, ('Alice', [3, ('Bob', [2, ('Gail', [1, ('Irene', [0, None])])])])])\n('Ernst', [4, ('Alice', [3, ('Bob', [2, ('Gail', [1, ('Irene', [0, None])])])])])\n\n\nHarry's shortest paths:\n('Harry', [0, None])\n('Gail', [1, ('Harry', [0, None])])\n('Irene', [1, ('Harry', [0, None])])\n('Jen', [1, ('Harry', [0, None])])\n('Bob', [2, ('Gail', [1, ('Harry', [0, None])])])\n('Alice', [3, ('Bob', [2, ('Gail', [1, ('Harry', [0, None])])])])\n('David', [4, ('Alice', [3, ('Bob', [2, ('Gail', [1, ('Harry', [0, None])])])])])\n('Carl', [4, ('Alice', [3, ('Bob', [2, ('Gail', [1, ('Harry', [0, None])])])])])\n('Frank', [4, ('Alice', [3, ('Bob', [2, ('Gail', [1, ('Harry', [0, None])])])])])\n('Ernst', [4, ('Alice', [3, ('Bob', [2, ('Gail', [1, ('Harry', [0, None])])])])])\n\n\nGail's shortest paths:\n('Gail', [0, None])\n('Bob', [1, ('Gail', [0, None])])\n('Harry', [1, ('Gail', [0, None])])\n('Irene', [1, ('Gail', [0, None])])\n('Jen', [1, ('Gail', [0, None])])\n('Alice', [2, ('Bob', [1, ('Gail', [0, None])])])\n('David', [3, ('Alice', [2, ('Bob', [1, ('Gail', [0, None])])])])\n('Carl', [3, ('Alice', [2, ('Bob', [1, ('Gail', [0, None])])])])\n('Frank', [3, ('Alice', [2, ('Bob', [1, ('Gail', [0, None])])])])\n('Ernst', [3, ('Alice', [2, ('Bob', [1, ('Gail', [0, None])])])])\n\n\nBob's shortest paths:\n('Bob', [0, None])\n('Alice', [1, ('Bob', [0, None])])\n('Gail', [1, ('Bob', [0, None])])\n('David', [2, ('Alice', [1, ('Bob', [0, None])])])\n('Carl', [2, ('Alice', [1, ('Bob', [0, None])])])\n('Frank', [2, ('Alice', [1, ('Bob', [0, None])])])\n('Ernst', [2, ('Alice', [1, ('Bob', [0, None])])])\n('Harry', [2, ('Gail', [1, ('Bob', [0, None])])])\n('Irene', [2, ('Gail', [1, ('Bob', [0, None])])])\n('Jen', [2, ('Gail', [1, ('Bob', [0, None])])])\n\n\nAlice's shortest paths:\n('Alice', [0, None])\n('David', [1, ('Alice', [0, None])])\n('Carl', [1, ('Alice', [0, None])])\n('Frank', [1, ('Alice', [0, None])])\n('Ernst', [1, ('Alice', [0, None])])\n('Bob', [1, ('Alice', [0, None])])\n('Gail', [2, ('Bob', [1, ('Alice', [0, None])])])\n('Harry', [3, ('Gail', [2, ('Bob', [1, ('Alice', [0, None])])])])\n('Irene', [3, ('Gail', [2, ('Bob', [1, ('Alice', [0, None])])])])\n('Jen', [3, ('Gail', [2, ('Bob', [1, ('Alice', [0, None])])])])\n\n\nErnst's shortest paths:\n('Ernst', [0, None])\n('Frank', [1, ('Ernst', [0, None])])\n('Alice', [1, ('Ernst', [0, None])])\n('Carl', [2, ('Frank', [1, ('Ernst', [0, None])])])\n('David', [2, ('Alice', [1, ('Ernst', [0, None])])])\n('Bob', [2, ('Alice', [1, ('Ernst', [0, None])])])\n('Gail', [3, ('Bob', [2, ('Alice', [1, ('Ernst', [0, None])])])])\n('Harry', [4, ('Gail', [3, ('Bob', [2, ('Alice', [1, ('Ernst', [0, None])])])])])\n('Irene', [4, ('Gail', [3, ('Bob', [2, ('Alice', [1, ('Ernst', [0, None])])])])])\n('Jen', [4, ('Gail', [3, ('Bob', [2, ('Alice', [1, ('Ernst', [0, None])])])])])\n\n\nFrank's shortest paths:\n('Frank', [0, None])\n('Carl', [1, ('Frank', [0, None])])\n('Ernst', [1, ('Frank', [0, None])])\n('Alice', [1, ('Frank', [0, None])])\n('David', [2, ('Carl', [1, ('Frank', [0, None])])])\n('Bob', [2, ('Alice', [1, ('Frank', [0, None])])])\n('Gail', [3, ('Bob', [2, ('Alice', [1, ('Frank', [0, None])])])])\n('Harry', [4, ('Gail', [3, ('Bob', [2, ('Alice', [1, ('Frank', [0, None])])])])])\n('Irene', [4, ('Gail', [3, ('Bob', [2, ('Alice', [1, ('Frank', [0, None])])])])])\n('Jen', [4, ('Gail', [3, ('Bob', [2, ('Alice', [1, ('Frank', [0, None])])])])])\n\n\nCarl's shortest paths:\n('Carl', [0, None])\n('David', [1, ('Carl', [0, None])])\n('Frank', [1, ('Carl', [0, None])])\n('Alice', [1, ('Carl', [0, None])])\n('Ernst', [2, ('Frank', [1, ('Carl', [0, None])])])\n('Bob', [2, ('Alice', [1, ('Carl', [0, None])])])\n('Gail', [3, ('Bob', [2, ('Alice', [1, ('Carl', [0, None])])])])\n('Harry', [4, ('Gail', [3, ('Bob', [2, ('Alice', [1, ('Carl', [0, None])])])])])\n('Irene', [4, ('Gail', [3, ('Bob', [2, ('Alice', [1, ('Carl', [0, None])])])])])\n('Jen', [4, ('Gail', [3, ('Bob', [2, ('Alice', [1, ('Carl', [0, None])])])])])\n\n\nDavid's shortest paths:\n('David', [0, None])\n('Carl', [1, ('David', [0, None])])\n('Alice', [1, ('David', [0, None])])\n('Frank', [2, ('Carl', [1, ('David', [0, None])])])\n('Ernst', [2, ('Alice', [1, ('David', [0, None])])])\n('Bob', [2, ('Alice', [1, ('David', [0, None])])])\n('Gail', [3, ('Bob', [2, ('Alice', [1, ('David', [0, None])])])])\n('Harry', [4, ('Gail', [3, ('Bob', [2, ('Alice', [1, ('David', [0, None])])])])])\n('Irene', [4, ('Gail', [3, ('Bob', [2, ('Alice', [1, ('David', [0, None])])])])])\n('Jen', [4, ('Gail', [3, ('Bob', [2, ('Alice', [1, ('David', [0, None])])])])])\n\n\n",
          "output_type": "stream"
        }
      ]
    },
    {
      "cell_type": "code",
      "source": "for person in gr.getVertices():\n    print(f\"{person}'s shortest paths:\")\n    for path in gr.getShortestPaths(person):\n        print(f\"{path}\")\n    print('\\n')",
      "metadata": {
        "trusted": true
      },
      "execution_count": 93,
      "outputs": [
        {
          "name": "stdout",
          "text": "Jen's shortest paths:\n('Jen', [0, ' '])\n('Gail', [1, 'Jen,  '])\n('Harry', [1, 'Jen,  '])\n('Irene', [1, 'Jen,  '])\n('Bob', [2, 'Gail, Jen,  '])\n('Alice', [3, 'Bob, Gail, Jen,  '])\n('David', [4, 'Alice, Bob, Gail, Jen,  '])\n('Carl', [4, 'Alice, Bob, Gail, Jen,  '])\n('Frank', [4, 'Alice, Bob, Gail, Jen,  '])\n('Ernst', [4, 'Alice, Bob, Gail, Jen,  '])\n\n\nIrene's shortest paths:\n('Irene', [0, ' '])\n('Gail', [1, 'Irene,  '])\n('Harry', [1, 'Irene,  '])\n('Jen', [1, 'Irene,  '])\n('Bob', [2, 'Gail, Irene,  '])\n('Alice', [3, 'Bob, Gail, Irene,  '])\n('David', [4, 'Alice, Bob, Gail, Irene,  '])\n('Carl', [4, 'Alice, Bob, Gail, Irene,  '])\n('Frank', [4, 'Alice, Bob, Gail, Irene,  '])\n('Ernst', [4, 'Alice, Bob, Gail, Irene,  '])\n\n\nHarry's shortest paths:\n('Harry', [0, ' '])\n('Gail', [1, 'Harry,  '])\n('Irene', [1, 'Harry,  '])\n('Jen', [1, 'Harry,  '])\n('Bob', [2, 'Gail, Harry,  '])\n('Alice', [3, 'Bob, Gail, Harry,  '])\n('David', [4, 'Alice, Bob, Gail, Harry,  '])\n('Carl', [4, 'Alice, Bob, Gail, Harry,  '])\n('Frank', [4, 'Alice, Bob, Gail, Harry,  '])\n('Ernst', [4, 'Alice, Bob, Gail, Harry,  '])\n\n\nGail's shortest paths:\n('Gail', [0, ' '])\n('Bob', [1, 'Gail,  '])\n('Harry', [1, 'Gail,  '])\n('Irene', [1, 'Gail,  '])\n('Jen', [1, 'Gail,  '])\n('Alice', [2, 'Bob, Gail,  '])\n('David', [3, 'Alice, Bob, Gail,  '])\n('Carl', [3, 'Alice, Bob, Gail,  '])\n('Frank', [3, 'Alice, Bob, Gail,  '])\n('Ernst', [3, 'Alice, Bob, Gail,  '])\n\n\nBob's shortest paths:\n('Bob', [0, ' '])\n('Alice', [1, 'Bob,  '])\n('Gail', [1, 'Bob,  '])\n('David', [2, 'Alice, Bob,  '])\n('Carl', [2, 'Alice, Bob,  '])\n('Frank', [2, 'Alice, Bob,  '])\n('Ernst', [2, 'Alice, Bob,  '])\n('Harry', [2, 'Gail, Bob,  '])\n('Irene', [2, 'Gail, Bob,  '])\n('Jen', [2, 'Gail, Bob,  '])\n\n\nAlice's shortest paths:\n('Alice', [0, ' '])\n('David', [1, 'Alice,  '])\n('Carl', [1, 'Alice,  '])\n('Frank', [1, 'Alice,  '])\n('Ernst', [1, 'Alice,  '])\n('Bob', [1, 'Alice,  '])\n('Gail', [2, 'Bob, Alice,  '])\n('Harry', [3, 'Gail, Bob, Alice,  '])\n('Irene', [3, 'Gail, Bob, Alice,  '])\n('Jen', [3, 'Gail, Bob, Alice,  '])\n\n\nErnst's shortest paths:\n('Ernst', [0, ' '])\n('Frank', [1, 'Ernst,  '])\n('Alice', [1, 'Ernst,  '])\n('Carl', [2, 'Frank, Ernst,  '])\n('David', [2, 'Alice, Ernst,  '])\n('Bob', [2, 'Alice, Ernst,  '])\n('Gail', [3, 'Bob, Alice, Ernst,  '])\n('Harry', [4, 'Gail, Bob, Alice, Ernst,  '])\n('Irene', [4, 'Gail, Bob, Alice, Ernst,  '])\n('Jen', [4, 'Gail, Bob, Alice, Ernst,  '])\n\n\nFrank's shortest paths:\n('Frank', [0, ' '])\n('Carl', [1, 'Frank,  '])\n('Ernst', [1, 'Frank,  '])\n('Alice', [1, 'Frank,  '])\n('David', [2, 'Carl, Frank,  '])\n('Bob', [2, 'Alice, Frank,  '])\n('Gail', [3, 'Bob, Alice, Frank,  '])\n('Harry', [4, 'Gail, Bob, Alice, Frank,  '])\n('Irene', [4, 'Gail, Bob, Alice, Frank,  '])\n('Jen', [4, 'Gail, Bob, Alice, Frank,  '])\n\n\nCarl's shortest paths:\n('Carl', [0, ' '])\n('David', [1, 'Carl,  '])\n('Frank', [1, 'Carl,  '])\n('Alice', [1, 'Carl,  '])\n('Ernst', [2, 'Frank, Carl,  '])\n('Bob', [2, 'Alice, Carl,  '])\n('Gail', [3, 'Bob, Alice, Carl,  '])\n('Harry', [4, 'Gail, Bob, Alice, Carl,  '])\n('Irene', [4, 'Gail, Bob, Alice, Carl,  '])\n('Jen', [4, 'Gail, Bob, Alice, Carl,  '])\n\n\nDavid's shortest paths:\n('David', [0, ' '])\n('Carl', [1, 'David,  '])\n('Alice', [1, 'David,  '])\n('Frank', [2, 'Carl, David,  '])\n('Ernst', [2, 'Alice, David,  '])\n('Bob', [2, 'Alice, David,  '])\n('Gail', [3, 'Bob, Alice, David,  '])\n('Harry', [4, 'Gail, Bob, Alice, David,  '])\n('Irene', [4, 'Gail, Bob, Alice, David,  '])\n('Jen', [4, 'Gail, Bob, Alice, David,  '])\n\n\n",
          "output_type": "stream"
        }
      ]
    },
    {
      "cell_type": "code",
      "source": "",
      "metadata": {},
      "execution_count": null,
      "outputs": []
    }
  ]
}

{
 "cells": [
  {
   "cell_type": "code",
   "execution_count": 264,
   "metadata": {},
   "outputs": [],
   "source": [
    "import numpy as np"
   ]
  },
  {
   "cell_type": "code",
   "execution_count": 265,
   "metadata": {},
   "outputs": [],
   "source": [
    "class Graph(object):\n",
    "    \n",
    "    \"\"\" \n",
    "    A class used to represent an undirected weighted graph \n",
    "    \n",
    "    Attributes\n",
    "    ----------\n",
    "    graph : Dict[object, List[object, int]]\n",
    "        The adjacency list of vertices of the graph. For every vertex, its adjacent vertices are stored along with the edge weight.\n",
    "        The weight must be a positive integer and it is equal to 1 for unweighted edges.\n",
    "    \n",
    "    Methods\n",
    "    -------\n",
    "    def addVertex(vert)\n",
    "        addVertex(vert) adds a vertex to the graph.\n",
    "    \n",
    "    def addVerticesFromList(vertList)\n",
    "        addVerticesFromList(vertList) adds a list of vertices to the graph.\n",
    "    \n",
    "    def addEdge(fromVert, toVert, weight = 1)\n",
    "        addEdge(fromVert, toVert, weight) adds a new, weighted, undirected edge to the graph that connects two vertices. \n",
    "        If not in the graph, the vertices should be added automatically.\n",
    "             \n",
    "    def addEdgesFromList(edgeList)\n",
    "        addEdgesFromList(edgeList) adds a list of edges to the graph.\n",
    "    \n",
    "    def getVertices()\n",
    "        getVertices() returns the list of all vertices in the graph.\n",
    "    \n",
    "    def getEdges()\n",
    "        getEdges() returns the list of all edges in the graph.\n",
    "    \n",
    "    def getNeighbors(vertKey)\n",
    "        getNeighbors(vertKey) returns the list of all neighbors of the vertex labeled vertKey.\n",
    "    \n",
    "    def vertIn(vertKey)\n",
    "        in returns True for a statement of the form vertex in graph, if the given vertex is in the graph, False otherwise.\n",
    "    \n",
    "    def saveGraph(fileName, graphName)\n",
    "        saveGraph(graph) writes dot representation of the graph to a text file\n",
    "        \n",
    "    def getShortestPaths(fromVert)\n",
    "        getShortestPaths(fromVert) calculates shortest paths in the graph from the given vertex to all other vertices\n",
    "    \"\"\"\n",
    "    \n",
    "    def __init__(self):\n",
    "        \"\"\"\n",
    "        Creates a new, empty undirected weighted graph.\n",
    "        \n",
    "        graph : Dict[object, List[object, int]]\n",
    "        \"\"\"\n",
    "        \n",
    "        self.graph = dict()\n",
    "        \n",
    "    def __str__(self):\n",
    "        \"\"\"\n",
    "         Display the graph in a more readable form.\n",
    "         \"\"\"\n",
    "        strGraph = \"Graph:\\n\"\n",
    "        \n",
    "        vert = self.getVertices()\n",
    "        strGraph += f'Vertices({len(vert)}): '\n",
    "        for v in vert:\n",
    "            strGraph += f\"{v}; \"\n",
    "        strGraph += '\\n'    \n",
    "        \n",
    "        edges = self.getEdges()\n",
    "        strGraph += f'Edges({len(edges)}):\\n'\n",
    "        for e in edges:\n",
    "            strGraph += f\"{e[0]} --{e[2]}-- {e[1]}\\n\"  \n",
    "\n",
    "        return(strGraph)\n",
    "        \n",
    "    def addVertex(self, vert):\n",
    "        \"\"\"\n",
    "        Adds a vertex to the graph if it is not already in the graph.\n",
    "        \n",
    "        def addVertex(self, vert: object) -> NoReturn\n",
    "        \n",
    "        Parameters\n",
    "        ----------\n",
    "        vert : object\n",
    "            The vertex we want to add to the graph\n",
    "        \"\"\"\n",
    "        \n",
    "        if self.vertIn(vert):\n",
    "            print(f'The graph already has a vertex with name: {vert}. The vertex was not added.')\n",
    "        else: \n",
    "            self.graph[vert] = []\n",
    "    \n",
    "    def addVerticesFromList(self, vertList):\n",
    "        \"\"\"\n",
    "        Add a list of vertices to the graph if they are not already in the graph.\n",
    "        \n",
    "        def addVerticesFromList(self, vertList: List[object]) -> NoReturn\n",
    "        \n",
    "        Parameters\n",
    "        ----------\n",
    "        vertList : List[object]\n",
    "            A list of vertices we want to add to the graph\n",
    "        \"\"\"\n",
    "        \n",
    "        for vert in vertList:\n",
    "            self.addVertex(vert)\n",
    "    \n",
    "    def addEdge(self, fromVert, toVert, weight = 1):\n",
    "        \"\"\"\n",
    "        Add a new, weighted, undirected edge to the graph that connects two vertices \n",
    "        if edge is not already in the graph. If these vertices are not in the graph, they \n",
    "        add automatically.\n",
    "        \n",
    "        If the argument `weight` isn't passed in, the default weight is used.\n",
    "        \n",
    "        def addEdge(self, fromVert, toVert, weight = 1) -> NoReturn\n",
    "        \n",
    "        Parameters\n",
    "        ----------\n",
    "        fromVert : object\n",
    "            The first vertex connected to the edge we want to add to the graph \n",
    "        toVert : object\n",
    "            The second vertex connected to the edge we want to add to the graph \n",
    "        weight : object\n",
    "            The weight of the edge (default is 1 for an unweighted edge). Must be a positive integer\n",
    "        \"\"\"\n",
    "        \n",
    "        if not type(weight) == int:\n",
    "            print('The weight must be integer. The edge was not added.')\n",
    "            return\n",
    "        if weight < 0:\n",
    "            print('The weight must be positive. The edge was not added.')\n",
    "            return\n",
    "        \n",
    "        if not self.vertIn(fromVert):\n",
    "            self.addVertex(fromVert)\n",
    "        if not self.vertIn(toVert):\n",
    "            self.addVertex(toVert)        \n",
    "\n",
    "        for e in self.graph[fromVert]:\n",
    "            if e[0] == toVert:\n",
    "                print(f'The graph already has an edge that connects these vertices: [{fromVert}, {e[0]}]. The edge was not added.')\n",
    "                return\n",
    "        \n",
    "        self.graph[fromVert].append([toVert, weight])\n",
    "        self.graph[toVert].append([fromVert, weight])\n",
    "        \n",
    "                \n",
    "    def addEdgesFromList(self, edgeList):\n",
    "        \"\"\"\n",
    "        Add a list of edges to the graph if they are not already in the graph.\n",
    "        \n",
    "        def addEdgesFromList(self, edgeList: List[object]) -> NoReturn\n",
    "        \n",
    "        Parameters\n",
    "        ----------\n",
    "        edgeList : List[object]\n",
    "            A list of edges we want to add to the graph\n",
    "        \"\"\"\n",
    "        \n",
    "        for edge in edgeList:\n",
    "            if len(edge) == 2:\n",
    "                self.addEdge(edge[0], edge[1])\n",
    "            else:\n",
    "                self.addEdge(edge[0], edge[1], edge[2])\n",
    "    \n",
    "    def getVertices(self):\n",
    "        \"\"\"\n",
    "        Return the list of all vertices in the graph.\n",
    "        \n",
    "        def addVertex(self) -> List[object]\n",
    "            \n",
    "        Returns\n",
    "        -------\n",
    "        list\n",
    "            A list of all vertices in the graph\n",
    "        \"\"\"\n",
    "        \n",
    "        return list(self.graph.keys())\n",
    "    \n",
    "    def getEdges(self):\n",
    "        \"\"\"\n",
    "        Return the list of all edges in the graph.\n",
    "        \n",
    "        def getEdges(self) -> List[List[object, int]]\n",
    "            \n",
    "        Returns\n",
    "        -------\n",
    "        list\n",
    "            A list of all edges in the graph. It includes vertices connected to the edge and its weight\n",
    "        \"\"\"\n",
    "        \n",
    "        edges = []\n",
    "        for v in self.graph:\n",
    "            neig = self.getNeighbors(v)\n",
    "            for e in neig:\n",
    "                if [e[0], v, e[1]] not in edges:\n",
    "                    edges.append([v, e[0], e[1]])\n",
    "        return edges\n",
    "    \n",
    "    def getNeighbors(self, vertKey):\n",
    "        \"\"\"\n",
    "        Returns the list of all neighbors of the vertex labeled vertKey, if the vertex is in the graph.\n",
    "        \n",
    "        def getNeighbors(self, vertKey: object) -> List[List[object, int]]\n",
    "        \n",
    "        Parameters\n",
    "        ----------\n",
    "        vertKey : object\n",
    "            The vertex whose neighbors we want to know\n",
    "            \n",
    "        Returns\n",
    "        -------\n",
    "        list\n",
    "            a list of all neighbors of the vertex labeled vertKey\n",
    "        \"\"\"\n",
    "        \n",
    "        if self.vertIn(vertKey):\n",
    "            return self.graph[vertKey]\n",
    "        else:\n",
    "            print(f'There is no vertex with the name: {vertKey}')\n",
    "    \n",
    "    def vertIn(self, vertKey):\n",
    "        \"\"\"\n",
    "        Return True for a statement of the form vertex in graph, if the given vertex is in the graph, False otherwise.\n",
    "        \n",
    "        def vertIn(self, vertKey: object) -> bool\n",
    "        \n",
    "        Parameters\n",
    "        ----------\n",
    "        vertKey : object\n",
    "            The vertex we want to check\n",
    "            \n",
    "        Returns\n",
    "        -------\n",
    "        bool\n",
    "            Result of checking if the vertex is in the graph\n",
    "        \"\"\"\n",
    "        \n",
    "        if vertKey in self.graph:\n",
    "            return True\n",
    "        else: \n",
    "            return False\n",
    "    \n",
    "    def saveGraph(self, fileName, graphName):\n",
    "        \"\"\"\n",
    "        Write dot representation of the graph to a text file. Create a new text file with\n",
    "        dot representation of the graph in the same directory where the script file locates.\n",
    "        \n",
    "        def saveGraph(self, fileName: str, graphName: str) -> NoReturn\n",
    "        \n",
    "        Parameters\n",
    "        ----------\n",
    "        fileName : str\n",
    "            Text file name\n",
    "        graphName : str\n",
    "            Graph name in the text file\n",
    "        \"\"\"\n",
    "        \n",
    "        edges = self.getEdges()\n",
    "        with open(f'{fileName}.txt', 'w') as f:\n",
    "            f.write(f'graph {graphName} {{\\n')\n",
    "            for e in edges:\n",
    "                f.write(f'\\t{e[0]} -- {e[1]} [weight = {e[2]}]\\n')\n",
    "            f.write('}')\n",
    "        \n",
    "    def getShortestPaths(self, fromVert):\n",
    "        \"\"\"\n",
    "        Calculates shortest path in the graph from the given vertex to all other vertices, if the vertex is in the graph.\n",
    "        Use Dijkstra’s algorithm. Dijkstra’s algorithm maintains a set S of vertices whose final shortest-path weights from the source \n",
    "        s have already been determined. The algorithm repeatedly selects the vertex u from V-S with the minimum shortest-path estimate, \n",
    "        adds u to S, and relaxes all edges leaving u. We use a min-priority queue q of vertices, keyed by their d values.\n",
    "        \n",
    "        def getShortestPaths(self, fromVert: object) -> List[Tuple[str, List[int, str]]]\n",
    "        \n",
    "        Parameters\n",
    "        ----------\n",
    "        fromVert : object\n",
    "            The vertex whose the shortest paths we want to calculate\n",
    "            \n",
    "        Returns\n",
    "        -------\n",
    "        list\n",
    "            a list of the shortest paths. Have the neighbor's name, the length of the shortest path, and vertices included in this path\n",
    "        \"\"\"\n",
    "        \n",
    "        if not self.vertIn(fromVert):\n",
    "            print(f'There is no vertex with the name: {fromVert}')\n",
    "            return\n",
    "        vertices = dict()\n",
    "        for v in self.graph:\n",
    "#            vertices[v] = [np.inf, None]\n",
    "            vertices[v] = [np.inf, ' ']\n",
    "        vertices[fromVert][0] = 0\n",
    "        s = []\n",
    "        q = dict(sorted(vertices.items(), key = lambda v: v[1][0], reverse = True))\n",
    "        while len(q) != 0:\n",
    "            min = q.popitem()\n",
    "            s.append(min)\n",
    "            for v in self.getNeighbors(min[0]):\n",
    "                vv = vertices[v[0]]\n",
    "                if(vv[0] > min[1][0] + v[1]):\n",
    "                    vv[0] = min[1][0] + v[1]\n",
    "#                    vv[1] = min\n",
    "                    vv[1] = f'{min[0]}, {min[1][1]}'\n",
    "            q = dict(sorted(q.items(), key = lambda v: v[1][0], reverse = True))\n",
    "        return s"
   ]
  },
  {
   "cell_type": "code",
   "execution_count": null,
   "metadata": {},
   "outputs": [],
   "source": []
  },
  {
   "cell_type": "code",
   "execution_count": 266,
   "metadata": {},
   "outputs": [],
   "source": [
    "g = Graph()"
   ]
  },
  {
   "cell_type": "code",
   "execution_count": 267,
   "metadata": {},
   "outputs": [],
   "source": [
    "g.addVertex('ad')"
   ]
  },
  {
   "cell_type": "code",
   "execution_count": 268,
   "metadata": {},
   "outputs": [
    {
     "data": {
      "text/plain": [
       "['ad']"
      ]
     },
     "execution_count": 268,
     "metadata": {},
     "output_type": "execute_result"
    }
   ],
   "source": [
    "g.getVertices()"
   ]
  },
  {
   "cell_type": "code",
   "execution_count": 269,
   "metadata": {},
   "outputs": [],
   "source": [
    "g.addVerticesFromList('mar')"
   ]
  },
  {
   "cell_type": "code",
   "execution_count": 270,
   "metadata": {},
   "outputs": [
    {
     "data": {
      "text/plain": [
       "['ad', 'm', 'a', 'r']"
      ]
     },
     "execution_count": 270,
     "metadata": {},
     "output_type": "execute_result"
    }
   ],
   "source": [
    "g.getVertices()"
   ]
  },
  {
   "cell_type": "code",
   "execution_count": 271,
   "metadata": {},
   "outputs": [],
   "source": [
    "g.addVerticesFromList(['mar', 1, 3, 5])"
   ]
  },
  {
   "cell_type": "code",
   "execution_count": 272,
   "metadata": {},
   "outputs": [
    {
     "data": {
      "text/plain": [
       "['ad', 'm', 'a', 'r', 'mar', 1, 3, 5]"
      ]
     },
     "execution_count": 272,
     "metadata": {},
     "output_type": "execute_result"
    }
   ],
   "source": [
    "g.getVertices()"
   ]
  },
  {
   "cell_type": "code",
   "execution_count": 273,
   "metadata": {},
   "outputs": [
    {
     "name": "stdout",
     "output_type": "stream",
     "text": [
      "The graph already has a vertex with name: m. The vertex was not added.\n"
     ]
    }
   ],
   "source": [
    "g.addVerticesFromList('met')"
   ]
  },
  {
   "cell_type": "code",
   "execution_count": 274,
   "metadata": {},
   "outputs": [
    {
     "data": {
      "text/plain": [
       "['ad', 'm', 'a', 'r', 'mar', 1, 3, 5, 'e', 't']"
      ]
     },
     "execution_count": 274,
     "metadata": {},
     "output_type": "execute_result"
    }
   ],
   "source": [
    "g.getVertices()"
   ]
  },
  {
   "cell_type": "code",
   "execution_count": 275,
   "metadata": {},
   "outputs": [
    {
     "data": {
      "text/plain": [
       "[]"
      ]
     },
     "execution_count": 275,
     "metadata": {},
     "output_type": "execute_result"
    }
   ],
   "source": [
    "g.getEdges()"
   ]
  },
  {
   "cell_type": "code",
   "execution_count": 276,
   "metadata": {},
   "outputs": [
    {
     "name": "stdout",
     "output_type": "stream",
     "text": [
      "The weight must be positive. The edge was not added.\n"
     ]
    }
   ],
   "source": [
    "g.addEdge(1, 4, -4)"
   ]
  },
  {
   "cell_type": "code",
   "execution_count": 277,
   "metadata": {},
   "outputs": [
    {
     "name": "stdout",
     "output_type": "stream",
     "text": [
      "The weight must be integer. The edge was not added.\n"
     ]
    }
   ],
   "source": [
    "g.addEdge(1, 4, 1.4)"
   ]
  },
  {
   "cell_type": "code",
   "execution_count": 278,
   "metadata": {},
   "outputs": [
    {
     "name": "stdout",
     "output_type": "stream",
     "text": [
      "The weight must be integer. The edge was not added.\n"
     ]
    }
   ],
   "source": [
    "g.addEdge(1, 4, 'g')"
   ]
  },
  {
   "cell_type": "code",
   "execution_count": 279,
   "metadata": {},
   "outputs": [
    {
     "data": {
      "text/plain": [
       "[]"
      ]
     },
     "execution_count": 279,
     "metadata": {},
     "output_type": "execute_result"
    }
   ],
   "source": [
    "g.getEdges()"
   ]
  },
  {
   "cell_type": "code",
   "execution_count": 280,
   "metadata": {},
   "outputs": [],
   "source": [
    "g.addEdge(1, 4, 3)"
   ]
  },
  {
   "cell_type": "code",
   "execution_count": 281,
   "metadata": {},
   "outputs": [
    {
     "data": {
      "text/plain": [
       "[[1, 4, 3]]"
      ]
     },
     "execution_count": 281,
     "metadata": {},
     "output_type": "execute_result"
    }
   ],
   "source": [
    "g.getEdges()"
   ]
  },
  {
   "cell_type": "code",
   "execution_count": 282,
   "metadata": {},
   "outputs": [],
   "source": [
    "g.addEdge(2, 4)"
   ]
  },
  {
   "cell_type": "code",
   "execution_count": 283,
   "metadata": {},
   "outputs": [
    {
     "data": {
      "text/plain": [
       "[[1, 4, 3], [4, 2, 1]]"
      ]
     },
     "execution_count": 283,
     "metadata": {},
     "output_type": "execute_result"
    }
   ],
   "source": [
    "g.getEdges()"
   ]
  },
  {
   "cell_type": "code",
   "execution_count": 284,
   "metadata": {},
   "outputs": [
    {
     "name": "stdout",
     "output_type": "stream",
     "text": [
      "The graph already has an edge that connects these vertices: [1, 4]. The edge was not added.\n"
     ]
    }
   ],
   "source": [
    "g.addEdge(1, 4)"
   ]
  },
  {
   "cell_type": "code",
   "execution_count": 285,
   "metadata": {},
   "outputs": [
    {
     "data": {
      "text/plain": [
       "[[1, 4, 3], [4, 2, 1]]"
      ]
     },
     "execution_count": 285,
     "metadata": {},
     "output_type": "execute_result"
    }
   ],
   "source": [
    "g.getEdges()"
   ]
  },
  {
   "cell_type": "code",
   "execution_count": 286,
   "metadata": {},
   "outputs": [
    {
     "name": "stdout",
     "output_type": "stream",
     "text": [
      "The graph already has an edge that connects these vertices: [1, 4]. The edge was not added.\n"
     ]
    }
   ],
   "source": [
    "g.addEdgesFromList([[1, 4], [2, 'a', 3], [4, 3, 2], ['m', 'r']])"
   ]
  },
  {
   "cell_type": "code",
   "execution_count": 287,
   "metadata": {},
   "outputs": [
    {
     "data": {
      "text/plain": [
       "[['m', 'r', 1], ['a', 2, 3], [1, 4, 3], [3, 4, 2], [4, 2, 1]]"
      ]
     },
     "execution_count": 287,
     "metadata": {},
     "output_type": "execute_result"
    }
   ],
   "source": [
    "g.getEdges()"
   ]
  },
  {
   "cell_type": "code",
   "execution_count": 288,
   "metadata": {},
   "outputs": [
    {
     "data": {
      "text/plain": [
       "True"
      ]
     },
     "execution_count": 288,
     "metadata": {},
     "output_type": "execute_result"
    }
   ],
   "source": [
    "g.vertIn(3)"
   ]
  },
  {
   "cell_type": "code",
   "execution_count": 289,
   "metadata": {},
   "outputs": [
    {
     "name": "stdout",
     "output_type": "stream",
     "text": [
      "There is no vertex with the name: 12\n"
     ]
    }
   ],
   "source": [
    "g.getNeighbors(12)"
   ]
  },
  {
   "cell_type": "code",
   "execution_count": 290,
   "metadata": {},
   "outputs": [
    {
     "data": {
      "text/plain": [
       "[[4, 1], ['a', 3]]"
      ]
     },
     "execution_count": 290,
     "metadata": {},
     "output_type": "execute_result"
    }
   ],
   "source": [
    "g.getNeighbors(2)"
   ]
  },
  {
   "cell_type": "code",
   "execution_count": 291,
   "metadata": {},
   "outputs": [
    {
     "data": {
      "text/plain": [
       "[]"
      ]
     },
     "execution_count": 291,
     "metadata": {},
     "output_type": "execute_result"
    }
   ],
   "source": [
    "g.getNeighbors('ad')"
   ]
  },
  {
   "cell_type": "code",
   "execution_count": 292,
   "metadata": {},
   "outputs": [
    {
     "name": "stdout",
     "output_type": "stream",
     "text": [
      "There is no vertex with the name: df\n"
     ]
    }
   ],
   "source": [
    "g.getNeighbors('df')"
   ]
  },
  {
   "cell_type": "code",
   "execution_count": 293,
   "metadata": {},
   "outputs": [],
   "source": [
    "g.saveGraph('graph1', 'g')"
   ]
  },
  {
   "cell_type": "code",
   "execution_count": 294,
   "metadata": {},
   "outputs": [
    {
     "name": "stdout",
     "output_type": "stream",
     "text": [
      "There is no vertex with the name: 9\n"
     ]
    }
   ],
   "source": [
    "g.getShortestPaths(9)"
   ]
  },
  {
   "cell_type": "code",
   "execution_count": 295,
   "metadata": {},
   "outputs": [
    {
     "data": {
      "text/plain": [
       "[(4, [0, ' ']),\n",
       " (2, [1, '4,  ']),\n",
       " (3, [2, '4,  ']),\n",
       " (1, [3, '4,  ']),\n",
       " ('a', [4, '2, 4,  ']),\n",
       " ('t', [inf, ' ']),\n",
       " ('e', [inf, ' ']),\n",
       " (5, [inf, ' ']),\n",
       " ('mar', [inf, ' ']),\n",
       " ('r', [inf, ' ']),\n",
       " ('m', [inf, ' ']),\n",
       " ('ad', [inf, ' '])]"
      ]
     },
     "execution_count": 295,
     "metadata": {},
     "output_type": "execute_result"
    }
   ],
   "source": [
    "g.getShortestPaths(4)"
   ]
  },
  {
   "cell_type": "code",
   "execution_count": 296,
   "metadata": {},
   "outputs": [
    {
     "name": "stdout",
     "output_type": "stream",
     "text": [
      "There is no vertex with the name: 9\n"
     ]
    }
   ],
   "source": [
    "g.getShortestPaths(9)"
   ]
  },
  {
   "cell_type": "code",
   "execution_count": 297,
   "metadata": {},
   "outputs": [
    {
     "data": {
      "text/plain": [
       "[(4, [0, ' ']),\n",
       " (2, [1, '4,  ']),\n",
       " (3, [2, '4,  ']),\n",
       " (1, [3, '4,  ']),\n",
       " ('a', [4, '2, 4,  ']),\n",
       " ('t', [inf, ' ']),\n",
       " ('e', [inf, ' ']),\n",
       " (5, [inf, ' ']),\n",
       " ('mar', [inf, ' ']),\n",
       " ('r', [inf, ' ']),\n",
       " ('m', [inf, ' ']),\n",
       " ('ad', [inf, ' '])]"
      ]
     },
     "execution_count": 297,
     "metadata": {},
     "output_type": "execute_result"
    }
   ],
   "source": [
    "g.getShortestPaths(4)"
   ]
  },
  {
   "cell_type": "code",
   "execution_count": 298,
   "metadata": {},
   "outputs": [
    {
     "name": "stdout",
     "output_type": "stream",
     "text": [
      "Graph:\n",
      "Vertices(12): ad; m; a; r; mar; 1; 3; 5; e; t; 4; 2; \n",
      "Edges(5):\n",
      "m --1-- r\n",
      "a --3-- 2\n",
      "1 --3-- 4\n",
      "3 --2-- 4\n",
      "4 --1-- 2\n",
      "\n"
     ]
    }
   ],
   "source": [
    "print(g)"
   ]
  },
  {
   "cell_type": "code",
   "execution_count": null,
   "metadata": {},
   "outputs": [],
   "source": []
  },
  {
   "cell_type": "code",
   "execution_count": 299,
   "metadata": {
    "tags": []
   },
   "outputs": [],
   "source": [
    "gr = Graph()"
   ]
  },
  {
   "cell_type": "code",
   "execution_count": 300,
   "metadata": {},
   "outputs": [],
   "source": [
    "gr.addVertex('Jen')"
   ]
  },
  {
   "cell_type": "code",
   "execution_count": 301,
   "metadata": {},
   "outputs": [
    {
     "data": {
      "text/plain": [
       "['Jen']"
      ]
     },
     "execution_count": 301,
     "metadata": {},
     "output_type": "execute_result"
    }
   ],
   "source": [
    "gr.getVertices()"
   ]
  },
  {
   "cell_type": "code",
   "execution_count": 302,
   "metadata": {},
   "outputs": [],
   "source": [
    "gr.addVerticesFromList(['Irene', 'Harry', 'Gail', 'Bob', 'Alice', 'Ernst'])"
   ]
  },
  {
   "cell_type": "code",
   "execution_count": 303,
   "metadata": {},
   "outputs": [
    {
     "data": {
      "text/plain": [
       "['Jen', 'Irene', 'Harry', 'Gail', 'Bob', 'Alice', 'Ernst']"
      ]
     },
     "execution_count": 303,
     "metadata": {},
     "output_type": "execute_result"
    }
   ],
   "source": [
    "gr.getVertices()"
   ]
  },
  {
   "cell_type": "code",
   "execution_count": 304,
   "metadata": {},
   "outputs": [],
   "source": [
    "gr.addEdge('Jen', 'Irene')"
   ]
  },
  {
   "cell_type": "code",
   "execution_count": 305,
   "metadata": {},
   "outputs": [
    {
     "data": {
      "text/plain": [
       "[['Jen', 'Irene', 1]]"
      ]
     },
     "execution_count": 305,
     "metadata": {},
     "output_type": "execute_result"
    }
   ],
   "source": [
    "gr.getEdges()"
   ]
  },
  {
   "cell_type": "code",
   "execution_count": 306,
   "metadata": {},
   "outputs": [],
   "source": [
    "gr.addEdgesFromList([('Jen', 'Harry'), ('Jen', 'Gail'), ('Harry', 'Irene'), ('Harry', 'Gail'), ('Irene', 'Gail'), ('Gail', 'Bob'), ('Bob', 'Alice'), \n",
    "                    ('Alice', 'Ernst'), ('Alice', 'Frank'), ('Alice', 'Carl'), ('Alice', 'David'), ('Ernst', 'Frank'), ('Frank', 'Carl'), \n",
    "                    ('Carl', 'David')])"
   ]
  },
  {
   "cell_type": "code",
   "execution_count": 307,
   "metadata": {},
   "outputs": [
    {
     "data": {
      "text/plain": [
       "[['Jen', 'Irene', 1],\n",
       " ['Jen', 'Harry', 1],\n",
       " ['Jen', 'Gail', 1],\n",
       " ['Irene', 'Harry', 1],\n",
       " ['Irene', 'Gail', 1],\n",
       " ['Harry', 'Gail', 1],\n",
       " ['Gail', 'Bob', 1],\n",
       " ['Bob', 'Alice', 1],\n",
       " ['Alice', 'Ernst', 1],\n",
       " ['Alice', 'Frank', 1],\n",
       " ['Alice', 'Carl', 1],\n",
       " ['Alice', 'David', 1],\n",
       " ['Ernst', 'Frank', 1],\n",
       " ['Frank', 'Carl', 1],\n",
       " ['Carl', 'David', 1]]"
      ]
     },
     "execution_count": 307,
     "metadata": {},
     "output_type": "execute_result"
    }
   ],
   "source": [
    "gr.getEdges()"
   ]
  },
  {
   "cell_type": "code",
   "execution_count": 308,
   "metadata": {},
   "outputs": [
    {
     "data": {
      "text/plain": [
       "['Jen',\n",
       " 'Irene',\n",
       " 'Harry',\n",
       " 'Gail',\n",
       " 'Bob',\n",
       " 'Alice',\n",
       " 'Ernst',\n",
       " 'Frank',\n",
       " 'Carl',\n",
       " 'David']"
      ]
     },
     "execution_count": 308,
     "metadata": {},
     "output_type": "execute_result"
    }
   ],
   "source": [
    "gr.getVertices()"
   ]
  },
  {
   "cell_type": "code",
   "execution_count": 309,
   "metadata": {},
   "outputs": [
    {
     "name": "stdout",
     "output_type": "stream",
     "text": [
      "Jen has neighbors:  [['Irene', 1], ['Harry', 1], ['Gail', 1]]\n",
      "Irene has neighbors:  [['Jen', 1], ['Harry', 1], ['Gail', 1]]\n",
      "Harry has neighbors:  [['Jen', 1], ['Irene', 1], ['Gail', 1]]\n",
      "Gail has neighbors:  [['Jen', 1], ['Harry', 1], ['Irene', 1], ['Bob', 1]]\n",
      "Bob has neighbors:  [['Gail', 1], ['Alice', 1]]\n",
      "Alice has neighbors:  [['Bob', 1], ['Ernst', 1], ['Frank', 1], ['Carl', 1], ['David', 1]]\n",
      "Ernst has neighbors:  [['Alice', 1], ['Frank', 1]]\n",
      "Frank has neighbors:  [['Alice', 1], ['Ernst', 1], ['Carl', 1]]\n",
      "Carl has neighbors:  [['Alice', 1], ['Frank', 1], ['David', 1]]\n",
      "David has neighbors:  [['Alice', 1], ['Carl', 1]]\n"
     ]
    }
   ],
   "source": [
    "for person in gr.getVertices():\n",
    "    print(person, 'has neighbors: ', gr.getNeighbors(person))"
   ]
  },
  {
   "cell_type": "code",
   "execution_count": 310,
   "metadata": {},
   "outputs": [
    {
     "data": {
      "text/plain": [
       "True"
      ]
     },
     "execution_count": 310,
     "metadata": {},
     "output_type": "execute_result"
    }
   ],
   "source": [
    "gr.vertIn('Jen')"
   ]
  },
  {
   "cell_type": "code",
   "execution_count": 311,
   "metadata": {},
   "outputs": [
    {
     "data": {
      "text/plain": [
       "False"
      ]
     },
     "execution_count": 311,
     "metadata": {},
     "output_type": "execute_result"
    }
   ],
   "source": [
    "gr.vertIn('Mariia')"
   ]
  },
  {
   "cell_type": "code",
   "execution_count": 312,
   "metadata": {},
   "outputs": [],
   "source": [
    "gr.saveGraph('graph', 'gr')"
   ]
  },
  {
   "cell_type": "code",
   "execution_count": 313,
   "metadata": {},
   "outputs": [
    {
     "name": "stdout",
     "output_type": "stream",
     "text": [
      "Jen's shortest paths:\n",
      "('Jen', [0, ' '])\n",
      "('Gail', [1, 'Jen,  '])\n",
      "('Harry', [1, 'Jen,  '])\n",
      "('Irene', [1, 'Jen,  '])\n",
      "('Bob', [2, 'Gail, Jen,  '])\n",
      "('Alice', [3, 'Bob, Gail, Jen,  '])\n",
      "('David', [4, 'Alice, Bob, Gail, Jen,  '])\n",
      "('Carl', [4, 'Alice, Bob, Gail, Jen,  '])\n",
      "('Frank', [4, 'Alice, Bob, Gail, Jen,  '])\n",
      "('Ernst', [4, 'Alice, Bob, Gail, Jen,  '])\n",
      "\n",
      "\n",
      "Irene's shortest paths:\n",
      "('Irene', [0, ' '])\n",
      "('Gail', [1, 'Irene,  '])\n",
      "('Harry', [1, 'Irene,  '])\n",
      "('Jen', [1, 'Irene,  '])\n",
      "('Bob', [2, 'Gail, Irene,  '])\n",
      "('Alice', [3, 'Bob, Gail, Irene,  '])\n",
      "('David', [4, 'Alice, Bob, Gail, Irene,  '])\n",
      "('Carl', [4, 'Alice, Bob, Gail, Irene,  '])\n",
      "('Frank', [4, 'Alice, Bob, Gail, Irene,  '])\n",
      "('Ernst', [4, 'Alice, Bob, Gail, Irene,  '])\n",
      "\n",
      "\n",
      "Harry's shortest paths:\n",
      "('Harry', [0, ' '])\n",
      "('Gail', [1, 'Harry,  '])\n",
      "('Irene', [1, 'Harry,  '])\n",
      "('Jen', [1, 'Harry,  '])\n",
      "('Bob', [2, 'Gail, Harry,  '])\n",
      "('Alice', [3, 'Bob, Gail, Harry,  '])\n",
      "('David', [4, 'Alice, Bob, Gail, Harry,  '])\n",
      "('Carl', [4, 'Alice, Bob, Gail, Harry,  '])\n",
      "('Frank', [4, 'Alice, Bob, Gail, Harry,  '])\n",
      "('Ernst', [4, 'Alice, Bob, Gail, Harry,  '])\n",
      "\n",
      "\n",
      "Gail's shortest paths:\n",
      "('Gail', [0, ' '])\n",
      "('Bob', [1, 'Gail,  '])\n",
      "('Harry', [1, 'Gail,  '])\n",
      "('Irene', [1, 'Gail,  '])\n",
      "('Jen', [1, 'Gail,  '])\n",
      "('Alice', [2, 'Bob, Gail,  '])\n",
      "('David', [3, 'Alice, Bob, Gail,  '])\n",
      "('Carl', [3, 'Alice, Bob, Gail,  '])\n",
      "('Frank', [3, 'Alice, Bob, Gail,  '])\n",
      "('Ernst', [3, 'Alice, Bob, Gail,  '])\n",
      "\n",
      "\n",
      "Bob's shortest paths:\n",
      "('Bob', [0, ' '])\n",
      "('Alice', [1, 'Bob,  '])\n",
      "('Gail', [1, 'Bob,  '])\n",
      "('David', [2, 'Alice, Bob,  '])\n",
      "('Carl', [2, 'Alice, Bob,  '])\n",
      "('Frank', [2, 'Alice, Bob,  '])\n",
      "('Ernst', [2, 'Alice, Bob,  '])\n",
      "('Harry', [2, 'Gail, Bob,  '])\n",
      "('Irene', [2, 'Gail, Bob,  '])\n",
      "('Jen', [2, 'Gail, Bob,  '])\n",
      "\n",
      "\n",
      "Alice's shortest paths:\n",
      "('Alice', [0, ' '])\n",
      "('David', [1, 'Alice,  '])\n",
      "('Carl', [1, 'Alice,  '])\n",
      "('Frank', [1, 'Alice,  '])\n",
      "('Ernst', [1, 'Alice,  '])\n",
      "('Bob', [1, 'Alice,  '])\n",
      "('Gail', [2, 'Bob, Alice,  '])\n",
      "('Harry', [3, 'Gail, Bob, Alice,  '])\n",
      "('Irene', [3, 'Gail, Bob, Alice,  '])\n",
      "('Jen', [3, 'Gail, Bob, Alice,  '])\n",
      "\n",
      "\n",
      "Ernst's shortest paths:\n",
      "('Ernst', [0, ' '])\n",
      "('Frank', [1, 'Ernst,  '])\n",
      "('Alice', [1, 'Ernst,  '])\n",
      "('Carl', [2, 'Frank, Ernst,  '])\n",
      "('David', [2, 'Alice, Ernst,  '])\n",
      "('Bob', [2, 'Alice, Ernst,  '])\n",
      "('Gail', [3, 'Bob, Alice, Ernst,  '])\n",
      "('Harry', [4, 'Gail, Bob, Alice, Ernst,  '])\n",
      "('Irene', [4, 'Gail, Bob, Alice, Ernst,  '])\n",
      "('Jen', [4, 'Gail, Bob, Alice, Ernst,  '])\n",
      "\n",
      "\n",
      "Frank's shortest paths:\n",
      "('Frank', [0, ' '])\n",
      "('Carl', [1, 'Frank,  '])\n",
      "('Ernst', [1, 'Frank,  '])\n",
      "('Alice', [1, 'Frank,  '])\n",
      "('David', [2, 'Carl, Frank,  '])\n",
      "('Bob', [2, 'Alice, Frank,  '])\n",
      "('Gail', [3, 'Bob, Alice, Frank,  '])\n",
      "('Harry', [4, 'Gail, Bob, Alice, Frank,  '])\n",
      "('Irene', [4, 'Gail, Bob, Alice, Frank,  '])\n",
      "('Jen', [4, 'Gail, Bob, Alice, Frank,  '])\n",
      "\n",
      "\n",
      "Carl's shortest paths:\n",
      "('Carl', [0, ' '])\n",
      "('David', [1, 'Carl,  '])\n",
      "('Frank', [1, 'Carl,  '])\n",
      "('Alice', [1, 'Carl,  '])\n",
      "('Ernst', [2, 'Frank, Carl,  '])\n",
      "('Bob', [2, 'Alice, Carl,  '])\n",
      "('Gail', [3, 'Bob, Alice, Carl,  '])\n",
      "('Harry', [4, 'Gail, Bob, Alice, Carl,  '])\n",
      "('Irene', [4, 'Gail, Bob, Alice, Carl,  '])\n",
      "('Jen', [4, 'Gail, Bob, Alice, Carl,  '])\n",
      "\n",
      "\n",
      "David's shortest paths:\n",
      "('David', [0, ' '])\n",
      "('Carl', [1, 'David,  '])\n",
      "('Alice', [1, 'David,  '])\n",
      "('Frank', [2, 'Carl, David,  '])\n",
      "('Ernst', [2, 'Alice, David,  '])\n",
      "('Bob', [2, 'Alice, David,  '])\n",
      "('Gail', [3, 'Bob, Alice, David,  '])\n",
      "('Harry', [4, 'Gail, Bob, Alice, David,  '])\n",
      "('Irene', [4, 'Gail, Bob, Alice, David,  '])\n",
      "('Jen', [4, 'Gail, Bob, Alice, David,  '])\n",
      "\n",
      "\n"
     ]
    }
   ],
   "source": [
    "for person in gr.getVertices():\n",
    "    print(f\"{person}'s shortest paths:\")\n",
    "    for path in gr.getShortestPaths(person):\n",
    "        print(f\"{path}\")\n",
    "    print('\\n')"
   ]
  },
  {
   "cell_type": "code",
   "execution_count": 314,
   "metadata": {},
   "outputs": [
    {
     "name": "stdout",
     "output_type": "stream",
     "text": [
      "Jen's shortest paths:\n",
      "('Jen', [0, ' '])\n",
      "('Gail', [1, 'Jen,  '])\n",
      "('Harry', [1, 'Jen,  '])\n",
      "('Irene', [1, 'Jen,  '])\n",
      "('Bob', [2, 'Gail, Jen,  '])\n",
      "('Alice', [3, 'Bob, Gail, Jen,  '])\n",
      "('David', [4, 'Alice, Bob, Gail, Jen,  '])\n",
      "('Carl', [4, 'Alice, Bob, Gail, Jen,  '])\n",
      "('Frank', [4, 'Alice, Bob, Gail, Jen,  '])\n",
      "('Ernst', [4, 'Alice, Bob, Gail, Jen,  '])\n",
      "\n",
      "\n",
      "Irene's shortest paths:\n",
      "('Irene', [0, ' '])\n",
      "('Gail', [1, 'Irene,  '])\n",
      "('Harry', [1, 'Irene,  '])\n",
      "('Jen', [1, 'Irene,  '])\n",
      "('Bob', [2, 'Gail, Irene,  '])\n",
      "('Alice', [3, 'Bob, Gail, Irene,  '])\n",
      "('David', [4, 'Alice, Bob, Gail, Irene,  '])\n",
      "('Carl', [4, 'Alice, Bob, Gail, Irene,  '])\n",
      "('Frank', [4, 'Alice, Bob, Gail, Irene,  '])\n",
      "('Ernst', [4, 'Alice, Bob, Gail, Irene,  '])\n",
      "\n",
      "\n",
      "Harry's shortest paths:\n",
      "('Harry', [0, ' '])\n",
      "('Gail', [1, 'Harry,  '])\n",
      "('Irene', [1, 'Harry,  '])\n",
      "('Jen', [1, 'Harry,  '])\n",
      "('Bob', [2, 'Gail, Harry,  '])\n",
      "('Alice', [3, 'Bob, Gail, Harry,  '])\n",
      "('David', [4, 'Alice, Bob, Gail, Harry,  '])\n",
      "('Carl', [4, 'Alice, Bob, Gail, Harry,  '])\n",
      "('Frank', [4, 'Alice, Bob, Gail, Harry,  '])\n",
      "('Ernst', [4, 'Alice, Bob, Gail, Harry,  '])\n",
      "\n",
      "\n",
      "Gail's shortest paths:\n",
      "('Gail', [0, ' '])\n",
      "('Bob', [1, 'Gail,  '])\n",
      "('Harry', [1, 'Gail,  '])\n",
      "('Irene', [1, 'Gail,  '])\n",
      "('Jen', [1, 'Gail,  '])\n",
      "('Alice', [2, 'Bob, Gail,  '])\n",
      "('David', [3, 'Alice, Bob, Gail,  '])\n",
      "('Carl', [3, 'Alice, Bob, Gail,  '])\n",
      "('Frank', [3, 'Alice, Bob, Gail,  '])\n",
      "('Ernst', [3, 'Alice, Bob, Gail,  '])\n",
      "\n",
      "\n",
      "Bob's shortest paths:\n",
      "('Bob', [0, ' '])\n",
      "('Alice', [1, 'Bob,  '])\n",
      "('Gail', [1, 'Bob,  '])\n",
      "('David', [2, 'Alice, Bob,  '])\n",
      "('Carl', [2, 'Alice, Bob,  '])\n",
      "('Frank', [2, 'Alice, Bob,  '])\n",
      "('Ernst', [2, 'Alice, Bob,  '])\n",
      "('Harry', [2, 'Gail, Bob,  '])\n",
      "('Irene', [2, 'Gail, Bob,  '])\n",
      "('Jen', [2, 'Gail, Bob,  '])\n",
      "\n",
      "\n",
      "Alice's shortest paths:\n",
      "('Alice', [0, ' '])\n",
      "('David', [1, 'Alice,  '])\n",
      "('Carl', [1, 'Alice,  '])\n",
      "('Frank', [1, 'Alice,  '])\n",
      "('Ernst', [1, 'Alice,  '])\n",
      "('Bob', [1, 'Alice,  '])\n",
      "('Gail', [2, 'Bob, Alice,  '])\n",
      "('Harry', [3, 'Gail, Bob, Alice,  '])\n",
      "('Irene', [3, 'Gail, Bob, Alice,  '])\n",
      "('Jen', [3, 'Gail, Bob, Alice,  '])\n",
      "\n",
      "\n",
      "Ernst's shortest paths:\n",
      "('Ernst', [0, ' '])\n",
      "('Frank', [1, 'Ernst,  '])\n",
      "('Alice', [1, 'Ernst,  '])\n",
      "('Carl', [2, 'Frank, Ernst,  '])\n",
      "('David', [2, 'Alice, Ernst,  '])\n",
      "('Bob', [2, 'Alice, Ernst,  '])\n",
      "('Gail', [3, 'Bob, Alice, Ernst,  '])\n",
      "('Harry', [4, 'Gail, Bob, Alice, Ernst,  '])\n",
      "('Irene', [4, 'Gail, Bob, Alice, Ernst,  '])\n",
      "('Jen', [4, 'Gail, Bob, Alice, Ernst,  '])\n",
      "\n",
      "\n",
      "Frank's shortest paths:\n",
      "('Frank', [0, ' '])\n",
      "('Carl', [1, 'Frank,  '])\n",
      "('Ernst', [1, 'Frank,  '])\n",
      "('Alice', [1, 'Frank,  '])\n",
      "('David', [2, 'Carl, Frank,  '])\n",
      "('Bob', [2, 'Alice, Frank,  '])\n",
      "('Gail', [3, 'Bob, Alice, Frank,  '])\n",
      "('Harry', [4, 'Gail, Bob, Alice, Frank,  '])\n",
      "('Irene', [4, 'Gail, Bob, Alice, Frank,  '])\n",
      "('Jen', [4, 'Gail, Bob, Alice, Frank,  '])\n",
      "\n",
      "\n",
      "Carl's shortest paths:\n",
      "('Carl', [0, ' '])\n",
      "('David', [1, 'Carl,  '])\n",
      "('Frank', [1, 'Carl,  '])\n",
      "('Alice', [1, 'Carl,  '])\n",
      "('Ernst', [2, 'Frank, Carl,  '])\n",
      "('Bob', [2, 'Alice, Carl,  '])\n",
      "('Gail', [3, 'Bob, Alice, Carl,  '])\n",
      "('Harry', [4, 'Gail, Bob, Alice, Carl,  '])\n",
      "('Irene', [4, 'Gail, Bob, Alice, Carl,  '])\n",
      "('Jen', [4, 'Gail, Bob, Alice, Carl,  '])\n",
      "\n",
      "\n",
      "David's shortest paths:\n",
      "('David', [0, ' '])\n",
      "('Carl', [1, 'David,  '])\n",
      "('Alice', [1, 'David,  '])\n",
      "('Frank', [2, 'Carl, David,  '])\n",
      "('Ernst', [2, 'Alice, David,  '])\n",
      "('Bob', [2, 'Alice, David,  '])\n",
      "('Gail', [3, 'Bob, Alice, David,  '])\n",
      "('Harry', [4, 'Gail, Bob, Alice, David,  '])\n",
      "('Irene', [4, 'Gail, Bob, Alice, David,  '])\n",
      "('Jen', [4, 'Gail, Bob, Alice, David,  '])\n",
      "\n",
      "\n"
     ]
    }
   ],
   "source": [
    "for person in gr.getVertices():\n",
    "    print(f\"{person}'s shortest paths:\")\n",
    "    for path in gr.getShortestPaths(person):\n",
    "        print(f\"{path}\")\n",
    "    print('\\n')"
   ]
  },
  {
   "cell_type": "code",
   "execution_count": 315,
   "metadata": {},
   "outputs": [
    {
     "name": "stdout",
     "output_type": "stream",
     "text": [
      "Graph:\n",
      "Vertices(10): Jen; Irene; Harry; Gail; Bob; Alice; Ernst; Frank; Carl; David; \n",
      "Edges(15):\n",
      "Jen --1-- Irene\n",
      "Jen --1-- Harry\n",
      "Jen --1-- Gail\n",
      "Irene --1-- Harry\n",
      "Irene --1-- Gail\n",
      "Harry --1-- Gail\n",
      "Gail --1-- Bob\n",
      "Bob --1-- Alice\n",
      "Alice --1-- Ernst\n",
      "Alice --1-- Frank\n",
      "Alice --1-- Carl\n",
      "Alice --1-- David\n",
      "Ernst --1-- Frank\n",
      "Frank --1-- Carl\n",
      "Carl --1-- David\n",
      "\n"
     ]
    }
   ],
   "source": [
    "print(gr)"
   ]
  },
  {
   "cell_type": "code",
   "execution_count": null,
   "metadata": {},
   "outputs": [],
   "source": []
  },
  {
   "cell_type": "code",
   "execution_count": 316,
   "metadata": {},
   "outputs": [
    {
     "name": "stdout",
     "output_type": "stream",
     "text": [
      "Help on class Graph in module __main__:\n",
      "\n",
      "class Graph(builtins.object)\n",
      " |  A class used to represent an undirected weighted graph \n",
      " |  \n",
      " |  Attributes\n",
      " |  ----------\n",
      " |  graph : Dict[object, List[object, int]]\n",
      " |      The adjacency list of vertices of the graph. For every vertex, its adjacent vertices are stored along with the edge weight.\n",
      " |      The weight must be a positive integer and it is equal to 1 for unweighted edges.\n",
      " |  \n",
      " |  Methods\n",
      " |  -------\n",
      " |  def addVertex(vert)\n",
      " |      addVertex(vert) adds a vertex to the graph.\n",
      " |  \n",
      " |  def addVerticesFromList(vertList)\n",
      " |      addVerticesFromList(vertList) adds a list of vertices to the graph.\n",
      " |  \n",
      " |  def addEdge(fromVert, toVert, weight = 1)\n",
      " |      addEdge(fromVert, toVert, weight) adds a new, weighted, undirected edge to the graph that connects two vertices. \n",
      " |      If not in the graph, the vertices should be added automatically.\n",
      " |           \n",
      " |  def addEdgesFromList(edgeList)\n",
      " |      addEdgesFromList(edgeList) adds a list of edges to the graph.\n",
      " |  \n",
      " |  def getVertices()\n",
      " |      getVertices() returns the list of all vertices in the graph.\n",
      " |  \n",
      " |  def getEdges()\n",
      " |      getEdges() returns the list of all edges in the graph.\n",
      " |  \n",
      " |  def getNeighbors(vertKey)\n",
      " |      getNeighbors(vertKey) returns the list of all neighbors of the vertex labeled vertKey.\n",
      " |  \n",
      " |  def vertIn(vertKey)\n",
      " |      in returns True for a statement of the form vertex in graph, if the given vertex is in the graph, False otherwise.\n",
      " |  \n",
      " |  def saveGraph(fileName, graphName)\n",
      " |      saveGraph(graph) writes dot representation of the graph to a text file\n",
      " |      \n",
      " |  def getShortestPaths(fromVert)\n",
      " |      getShortestPaths(fromVert) calculates shortest paths in the graph from the given vertex to all other vertices\n",
      " |  \n",
      " |  Methods defined here:\n",
      " |  \n",
      " |  __init__(self)\n",
      " |      Creates a new, empty undirected weighted graph.\n",
      " |      \n",
      " |      graph : Dict[object, List[object, int]]\n",
      " |  \n",
      " |  __str__(self)\n",
      " |      Display the graph in a more readable form.\n",
      " |  \n",
      " |  addEdge(self, fromVert, toVert, weight=1)\n",
      " |      Add a new, weighted, undirected edge to the graph that connects two vertices \n",
      " |      if edge is not already in the graph. If these vertices are not in the graph, they \n",
      " |      add automatically.\n",
      " |      \n",
      " |      If the argument `weight` isn't passed in, the default weight is used.\n",
      " |      \n",
      " |      def addEdge(self, fromVert, toVert, weight = 1) -> NoReturn\n",
      " |      \n",
      " |      Parameters\n",
      " |      ----------\n",
      " |      fromVert : object\n",
      " |          The first vertex connected to the edge we want to add to the graph \n",
      " |      toVert : object\n",
      " |          The second vertex connected to the edge we want to add to the graph \n",
      " |      weight : object\n",
      " |          The weight of the edge (default is 1 for an unweighted edge). Must be a positive integer\n",
      " |  \n",
      " |  addEdgesFromList(self, edgeList)\n",
      " |      Add a list of edges to the graph if they are not already in the graph.\n",
      " |      \n",
      " |      def addEdgesFromList(self, edgeList: List[object]) -> NoReturn\n",
      " |      \n",
      " |      Parameters\n",
      " |      ----------\n",
      " |      edgeList : List[object]\n",
      " |          A list of edges we want to add to the graph\n",
      " |  \n",
      " |  addVertex(self, vert)\n",
      " |      Adds a vertex to the graph if it is not already in the graph.\n",
      " |      \n",
      " |      def addVertex(self, vert: object) -> NoReturn\n",
      " |      \n",
      " |      Parameters\n",
      " |      ----------\n",
      " |      vert : object\n",
      " |          The vertex we want to add to the graph\n",
      " |  \n",
      " |  addVerticesFromList(self, vertList)\n",
      " |      Add a list of vertices to the graph if they are not already in the graph.\n",
      " |      \n",
      " |      def addVerticesFromList(self, vertList: List[object]) -> NoReturn\n",
      " |      \n",
      " |      Parameters\n",
      " |      ----------\n",
      " |      vertList : List[object]\n",
      " |          A list of vertices we want to add to the graph\n",
      " |  \n",
      " |  getEdges(self)\n",
      " |      Return the list of all edges in the graph.\n",
      " |      \n",
      " |      def getEdges(self) -> List[List[object, int]]\n",
      " |          \n",
      " |      Returns\n",
      " |      -------\n",
      " |      list\n",
      " |          A list of all edges in the graph. It includes vertices connected to the edge and its weight\n",
      " |  \n",
      " |  getNeighbors(self, vertKey)\n",
      " |      Returns the list of all neighbors of the vertex labeled vertKey, if the vertex is in the graph.\n",
      " |      \n",
      " |      def getNeighbors(self, vertKey: object) -> List[List[object, int]]\n",
      " |      \n",
      " |      Parameters\n",
      " |      ----------\n",
      " |      vertKey : object\n",
      " |          The vertex whose neighbors we want to know\n",
      " |          \n",
      " |      Returns\n",
      " |      -------\n",
      " |      list\n",
      " |          a list of all neighbors of the vertex labeled vertKey\n",
      " |  \n",
      " |  getShortestPaths(self, fromVert)\n",
      " |      Calculates shortest path in the graph from the given vertex to all other vertices, if the vertex is in the graph.\n",
      " |      Use Dijkstra’s algorithm. Dijkstra’s algorithm maintains a set S of vertices whose final shortest-path weights from the source \n",
      " |      s have already been determined. The algorithm repeatedly selects the vertex u from V-S with the minimum shortest-path estimate, \n",
      " |      adds u to S, and relaxes all edges leaving u. We use a min-priority queue q of vertices, keyed by their d values.\n",
      " |      \n",
      " |      def getShortestPaths(self, fromVert: object) -> List[Tuple[str, List[int, str]]]\n",
      " |      \n",
      " |      Parameters\n",
      " |      ----------\n",
      " |      fromVert : object\n",
      " |          The vertex whose the shortest paths we want to calculate\n",
      " |          \n",
      " |      Returns\n",
      " |      -------\n",
      " |      list\n",
      " |          a list of the shortest paths. Have the neighbor's name, the length of the shortest path, and vertices included in this path\n",
      " |  \n",
      " |  getVertices(self)\n",
      " |      Return the list of all vertices in the graph.\n",
      " |      \n",
      " |      def addVertex(self) -> List[object]\n",
      " |          \n",
      " |      Returns\n",
      " |      -------\n",
      " |      list\n",
      " |          A list of all vertices in the graph\n",
      " |  \n",
      " |  saveGraph(self, fileName, graphName)\n",
      " |      Write dot representation of the graph to a text file. Create a new text file with\n",
      " |      dot representation of the graph in the same directory where the script file locates.\n",
      " |      \n",
      " |      def saveGraph(self, fileName: str, graphName: str) -> NoReturn\n",
      " |      \n",
      " |      Parameters\n",
      " |      ----------\n",
      " |      fileName : str\n",
      " |          Text file name\n",
      " |      graphName : str\n",
      " |          Graph name in the text file\n",
      " |  \n",
      " |  vertIn(self, vertKey)\n",
      " |      Return True for a statement of the form vertex in graph, if the given vertex is in the graph, False otherwise.\n",
      " |      \n",
      " |      def vertIn(self, vertKey: object) -> bool\n",
      " |      \n",
      " |      Parameters\n",
      " |      ----------\n",
      " |      vertKey : object\n",
      " |          The vertex we want to check\n",
      " |          \n",
      " |      Returns\n",
      " |      -------\n",
      " |      bool\n",
      " |          Result of checking if the vertex is in the graph\n",
      " |  \n",
      " |  ----------------------------------------------------------------------\n",
      " |  Data descriptors defined here:\n",
      " |  \n",
      " |  __dict__\n",
      " |      dictionary for instance variables (if defined)\n",
      " |  \n",
      " |  __weakref__\n",
      " |      list of weak references to the object (if defined)\n",
      "\n"
     ]
    }
   ],
   "source": [
    "help(Graph)"
   ]
  },
  {
   "cell_type": "code",
   "execution_count": null,
   "metadata": {},
   "outputs": [],
   "source": []
  },
  {
   "cell_type": "code",
   "execution_count": null,
   "metadata": {},
   "outputs": [],
   "source": []
  }
 ],
 "metadata": {
  "kernelspec": {
   "display_name": "Python 3 (ipykernel)",
   "language": "python",
   "name": "python3"
  },
  "language_info": {
   "codemirror_mode": {
    "name": "ipython",
    "version": 3
   },
   "file_extension": ".py",
   "mimetype": "text/x-python",
   "name": "python",
   "nbconvert_exporter": "python",
   "pygments_lexer": "ipython3",
   "version": "3.9.12"
  }
 },
 "nbformat": 4,
 "nbformat_minor": 4
}
